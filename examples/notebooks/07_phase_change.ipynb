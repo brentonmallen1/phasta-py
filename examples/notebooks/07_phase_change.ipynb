{
 "cells": [
  {
   "cell_type": "markdown",
   "metadata": {},
   "source": [
    "# Phase Change Example\n",
    "\n",
    "This notebook demonstrates phase change phenomena in PHASTA, including melting, solidification, and evaporation."
   ]
  },
  {
   "cell_type": "code",
   "execution_count": null,
   "metadata": {},
   "source": [
    "import numpy as np\n",
    "import matplotlib.pyplot as plt\n",
    "from phasta import FlowSolver, FlowConfig, Mesh, PhaseChangeConfig\n",
    "\n",
    "# Set up plotting style\n",
    "plt.style.use('seaborn-v0_8-whitegrid')"
   ]
  },
  {
   "cell_type": "markdown",
   "metadata": {},
   "source": [
    "## Problem Setup\n",
    "\n",
    "We'll simulate melting of a solid with the following parameters:\n",
    "- Domain size: 0.1m × 0.1m\n",
    "- Initial temperature: 293K\n",
    "- Hot wall temperature: 323K\n",
    "- Cold wall temperature: 283K\n",
    "- Material: Paraffin wax\n",
    "- Melting temperature: 313K"
   ]
  },
  {
   "cell_type": "code",
   "execution_count": null,
   "metadata": {},
   "source": [
    "# Create base configuration\n",
    "config = FlowConfig()\n",
    "config.domain = {\n",
    "    'width': 0.1,\n",
    "    'height': 0.1,\n",
    "    'mesh_size': 0.002\n",
    "}\n",
    "\n",
    "config.flow = {\n",
    "    'time_step': 0.1,\n",
    "    'max_time': 1000.0\n",
    "}\n",
    "\n",
    "config.boundary_conditions = {\n",
    "    'left_wall': 'temperature',\n",
    "    'right_wall': 'temperature',\n",
    "    'top_wall': 'adiabatic',\n",
    "    'bottom_wall': 'adiabatic'\n",
    "}"
   ]
  },
  {
   "cell_type": "markdown",
   "metadata": {},
   "source": [
    "## Melting Simulation\n",
    "\n",
    "Let's simulate the melting of a solid using the enthalpy-porosity method."
   ]
  },
  {
   "cell_type": "code",
   "execution_count": null,
   "metadata": {},
   "source": [
    "# Create mesh\n",
    "mesh = Mesh.generate_square_2d(\n",
    "    size=config.domain['width'],\n",
    "    nx=50,\n",
    "    ny=50\n",
    ")\n",
    "\n",
    "# Plot mesh\n",
    "plt.figure(figsize=(8, 8))\n",
    "mesh.plot()\n",
    "plt.title('Square Domain Mesh')\n",
    "plt.show()"
   ]
  },
  {
   "cell_type": "code",
   "execution_count": null,
   "metadata": {},
   "source": [
    "# Configure phase change\n",
    "phase_change_config = PhaseChangeConfig()\n",
    "phase_change_config.method = 'enthalpy_porosity'\n",
    "phase_change_config.material = {\n",
    "    'name': 'paraffin_wax',\n",
    "    'solid_density': 900.0,\n",
    "    'liquid_density': 800.0,\n",
    "    'solid_thermal_conductivity': 0.24,\n",
    "    'liquid_thermal_conductivity': 0.15,\n",
    "    'solid_specific_heat': 2100.0,\n",
    "    'liquid_specific_heat': 2200.0,\n",
    "    'latent_heat': 200000.0,\n",
    "    'melting_temperature': 313.0,\n",
    "    'mushy_zone_width': 1.0\n",
    "}\n",
    "phase_change_config.initial_conditions = {\n",
    "    'temperature': 293.0,\n",
    "    'phase': 'solid'\n",
    "}\n",
    "phase_change_config.boundary_conditions = {\n",
    "    'left_wall': {'type': 'temperature', 'value': 323.0},\n",
    "    'right_wall': {'type': 'temperature', 'value': 283.0},\n",
    "    'top_wall': {'type': 'adiabatic'},\n",
    "    'bottom_wall': {'type': 'adiabatic'}\n",
    "}\n",
    "\n",
    "# Create and run solver\n",
    "solver = FlowSolver(config, mesh, phase_change_config=phase_change_config)\n",
    "results = solver.solve()\n",
    "\n",
    "print(\"\\nMelting Results:\")\n",
    "print(f\"Simulation completed: {results.completed}\")\n",
    "print(f\"Final time: {results.final_time}\")\n",
    "print(f\"Number of time steps: {results.time_steps}\")"
   ]
  },
  {
   "cell_type": "markdown",
   "metadata": {},
   "source": [
    "## Visualize Results\n",
    "\n",
    "Plot temperature field, liquid fraction, and interface position."
   ]
  },
  {
   "cell_type": "code",
   "execution_count": null,
   "metadata": {},
   "source": [
    "# Plot results at different times\n",
    "times = [0.0, 250.0, 500.0, 750.0, 1000.0]\n",
    "plt.figure(figsize=(15, 10))\n",
    "\n",
    "for i, t in enumerate(times):\n",
    "    plt.subplot(2, 3, i+1)\n",
    "    results.plot_temperature(t)\n",
    "    plt.title(f'Temperature Field at t = {t}s')\n",
    "    plt.colorbar(label='Temperature (K)')\n",
    "\n",
    "plt.tight_layout()\n",
    "plt.show()"
   ]
  },
  {
   "cell_type": "code",
   "execution_count": null,
   "metadata": {},
   "source": [
    "# Plot liquid fraction and interface position\n",
    "plt.figure(figsize=(15, 5))\n",
    "\n",
    "# Plot liquid fraction\n",
    "plt.subplot(131)\n",
    "results.plot_liquid_fraction(500.0)\n",
    "plt.title('Liquid Fraction at t = 500s')\n",
    "plt.colorbar(label='Liquid Fraction')\n",
    "\n",
    "# Plot interface position\n",
    "plt.subplot(132)\n",
    "results.plot_interface_position()\n",
    "plt.title('Interface Position')\n",
    "plt.xlabel('Time (s)')\n",
    "plt.ylabel('Position (m)')\n",
    "plt.grid(True)\n",
    "\n",
    "# Plot heat transfer rate\n",
    "plt.subplot(133)\n",
    "results.plot_heat_transfer_rate()\n",
    "plt.title('Heat Transfer Rate')\n",
    "plt.xlabel('Time (s)')\n",
    "plt.ylabel('Heat Transfer (W)')\n",
    "plt.grid(True)\n",
    "\n",
    "plt.tight_layout()\n",
    "plt.show()"
   ]
  },
  {
   "cell_type": "markdown",
   "metadata": {},
   "source": [
    "## Solidification Simulation\n",
    "\n",
    "Now let's simulate the solidification of a liquid."
   ]
  },
  {
   "cell_type": "code",
   "execution_count": null,
   "metadata": {},
   "source": [
    "# Configure solidification\n",
    "phase_change_config = PhaseChangeConfig()\n",
    "phase_change_config.method = 'enthalpy_porosity'\n",
    "phase_change_config.material = {\n",
    "    'name': 'water',\n",
    "    'solid_density': 920.0,\n",
    "    'liquid_density': 1000.0,\n",
    "    'solid_thermal_conductivity': 2.22,\n",
    "    'liquid_thermal_conductivity': 0.6,\n",
    "    'solid_specific_heat': 2100.0,\n",
    "    'liquid_specific_heat': 4200.0,\n",
    "    'latent_heat': 334000.0,\n",
    "    'melting_temperature': 273.15,\n",
    "    'mushy_zone_width': 0.5\n",
    "}\n",
    "phase_change_config.initial_conditions = {\n",
    "    'temperature': 283.15,\n",
    "    'phase': 'liquid'\n",
    "}\n",
    "phase_change_config.boundary_conditions = {\n",
    "    'left_wall': {'type': 'temperature', 'value': 263.15},\n",
    "    'right_wall': {'type': 'temperature', 'value': 263.15},\n",
    "    'top_wall': {'type': 'adiabatic'},\n",
    "    'bottom_wall': {'type': 'adiabatic'}\n",
    "}\n",
    "\n",
    "# Create and run solver\n",
    "solver = FlowSolver(config, mesh, phase_change_config=phase_change_config)\n",
    "results = solver.solve()\n",
    "\n",
    "print(\"\\nSolidification Results:\")\n",
    "print(f\"Simulation completed: {results.completed}\")\n",
    "print(f\"Final time: {results.final_time}\")\n",
    "print(f\"Number of time steps: {results.time_steps}\")"
   ]
  },
  {
   "cell_type": "markdown",
   "metadata": {},
   "source": [
    "## Visualize Solidification Results\n",
    "\n",
    "Plot temperature field, solid fraction, and interface position."
   ]
  },
  {
   "cell_type": "code",
   "execution_count": null,
   "metadata": {},
   "source": [
    "# Plot results at different times\n",
    "times = [0.0, 250.0, 500.0, 750.0, 1000.0]\n",
    "plt.figure(figsize=(15, 10))\n",
    "\n",
    "for i, t in enumerate(times):\n",
    "    plt.subplot(2, 3, i+1)\n",
    "    results.plot_temperature(t)\n",
    "    plt.title(f'Temperature Field at t = {t}s')\n",
    "    plt.colorbar(label='Temperature (K)')\n",
    "\n",
    "plt.tight_layout()\n",
    "plt.show()"
   ]
  },
  {
   "cell_type": "code",
   "execution_count": null,
   "metadata": {},
   "source": [
    "# Plot solid fraction and interface position\n",
    "plt.figure(figsize=(15, 5))\n",
    "\n",
    "# Plot solid fraction\n",
    "plt.subplot(131)\n",
    "results.plot_solid_fraction(500.0)\n",
    "plt.title('Solid Fraction at t = 500s')\n",
    "plt.colorbar(label='Solid Fraction')\n",
    "\n",
    "# Plot interface position\n",
    "plt.subplot(132)\n",
    "results.plot_interface_position()\n",
    "plt.title('Interface Position')\n",
    "plt.xlabel('Time (s)')\n",
    "plt.ylabel('Position (m)')\n",
    "plt.grid(True)\n",
    "\n",
    "# Plot heat transfer rate\n",
    "plt.subplot(133)\n",
    "results.plot_heat_transfer_rate()\n",
    "plt.title('Heat Transfer Rate')\n",
    "plt.xlabel('Time (s)')\n",
    "plt.ylabel('Heat Transfer (W)')\n",
    "plt.grid(True)\n",
    "\n",
    "plt.tight_layout()\n",
    "plt.show()"
   ]
  },
  {
   "cell_type": "markdown",
   "metadata": {},
   "source": [
    "## Exercises\n",
    "\n",
    "1. Try different materials and phase change temperatures\n",
    "2. Experiment with different boundary conditions\n",
    "3. Study the effect of mushy zone width\n",
    "4. Compare different phase change methods\n",
    "\n",
    "## Next Steps\n",
    "\n",
    "- Try the turbulent flow example\n",
    "- Explore conjugate heat transfer\n",
    "- Learn about multi-phase flows"
   ]
  }
 ],
 "metadata": {
  "kernelspec": {
   "display_name": "Python 3.11",
   "language": "python",
   "name": "python3"
  },
  "language_info": {
   "codemirror_mode": {
    "name": "ipython",
    "version": 3
   },
   "file_extension": ".py",
   "mimetype": "text/x-python",
   "name": "python",
   "nbconvert_exporter": "python",
   "pygments_lexer": "ipython3",
   "version": "3.11.0"
  }
 },
 "nbformat": 4,
 "nbformat_minor": 4
} 
