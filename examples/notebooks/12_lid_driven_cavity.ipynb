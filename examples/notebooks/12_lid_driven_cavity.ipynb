{
 "cells": [
  {
   "cell_type": "markdown",
   "metadata": {},
   "source": [
    "# Lid-Driven Cavity Flow\n",
    "\n",
    "This notebook demonstrates the classic lid-driven cavity benchmark case in PHASTA. The lid-driven cavity is a standard test case for incompressible flow solvers, featuring:\n",
    "- Simple geometry\n",
    "- Well-defined boundary conditions\n",
    "- Rich flow physics\n",
    "- Extensive validation data"
   ]
  },
  {
   "cell_type": "code",
   "execution_count": null,
   "metadata": {},
   "source": [
    "import numpy as np\n",
    "import matplotlib.pyplot as plt\n",
    "from phasta import FlowSolver, FlowConfig, Mesh\n",
    "\n",
    "# Set up plotting style\n",
    "plt.style.use('seaborn-v0_8-whitegrid')"
   ]
  },
  {
   "cell_type": "markdown",
   "metadata": {},
   "source": [
    "## Problem Setup\n",
    "\n",
    "The lid-driven cavity problem consists of a square cavity with a moving lid. We'll simulate this for different Reynolds numbers."
   ]
  },
  {
   "cell_type": "code",
   "execution_count": null,
   "metadata": {},
   "source": [
    "# Create base configuration\n",
    "config = FlowConfig()\n",
    "config.domain = {\n",
    "    'width': 1.0,\n",
    "    'height': 1.0,\n",
    "    'depth': 1.0,\n",
    "    'mesh_size': 0.01\n",
    "}\n",
    "\n",
    "config.flow = {\n",
    "    'time_step': 0.001,\n",
    "    'max_time': 10.0\n",
    "}\n",
    "\n",
    "config.boundary_conditions = {\n",
    "    'top': 'velocity',\n",
    "    'bottom': 'no-slip',\n",
    "    'left': 'no-slip',\n",
    "    'right': 'no-slip',\n",
    "    'front': 'periodic',\n",
    "    'back': 'periodic'\n",
    "}\n",
    "\n",
    "# Create mesh\n",
    "mesh = Mesh.generate_structured_3d(\n",
    "    width=config.domain['width'],\n",
    "    height=config.domain['height'],\n",
    "    depth=config.domain['depth'],\n",
    "    nx=100,\n",
    "    ny=100,\n",
    "    nz=1\n",
    ")\n",
    "\n",
    "# Plot mesh\n",
    "plt.figure(figsize=(8, 8))\n",
    "mesh.plot_slice('z', 0.5)\n",
    "plt.title('Cavity Mesh')\n",
    "plt.show()"
   ]
  },
  {
   "cell_type": "markdown",
   "metadata": {},
   "source": [
    "## Reynolds Number Study\n",
    "\n",
    "Let's simulate the cavity flow for different Reynolds numbers."
   ]
  },
  {
   "cell_type": "code",
   "execution_count": null,
   "metadata": {},
   "source": [
    "# Test different Reynolds numbers\n",
    "reynolds_numbers = [100, 400, 1000, 3200]\n",
    "results = {}\n",
    "\n",
    "for re in reynolds_numbers:\n",
    "    print(f\"\\nSimulating Re = {re}\")\n",
    "    \n",
    "    # Update configuration\n",
    "    config.flow['reynolds_number'] = re\n",
    "    config.boundary_conditions['top'] = {'type': 'velocity', 'value': [1.0, 0.0, 0.0]}\n",
    "    \n",
    "    # Create and run solver\n",
    "    solver = FlowSolver(config, mesh)\n",
    "    results[re] = solver.solve()\n",
    "    \n",
    "    print(f\"Simulation completed: {results[re].completed}\")\n",
    "    print(f\"Final time: {results[re].final_time}\")\n",
    "    print(f\"Number of time steps: {results[re].time_steps}\")"
   ]
  },
  {
   "cell_type": "markdown",
   "metadata": {},
   "source": [
    "## Flow Visualization\n",
    "\n",
    "Let's visualize the flow patterns for different Reynolds numbers."
   ]
  },
  {
   "cell_type": "code",
   "execution_count": null,
   "metadata": {},
   "source": [
    "# Plot velocity fields\n",
    "plt.figure(figsize=(15, 10))\n",
    "\n",
    "for i, re in enumerate(reynolds_numbers):\n",
    "    plt.subplot(2, 2, i+1)\n",
    "    results[re].plot_velocity_field(plane='z', position=0.5)\n",
    "    plt.title(f'Velocity Field (Re = {re})')\n",
    "\n",
    "plt.tight_layout()\n",
    "plt.show()"
   ]
  },
  {
   "cell_type": "code",
   "execution_count": null,
   "metadata": {},
   "source": [
    "# Plot streamlines\n",
    "plt.figure(figsize=(15, 10))\n",
    "\n",
    "for i, re in enumerate(reynolds_numbers):\n",
    "    plt.subplot(2, 2, i+1)\n",
    "    results[re].plot_streamlines(plane='z', position=0.5)\n",
    "    plt.title(f'Streamlines (Re = {re})')\n",
    "\n",
    "plt.tight_layout()\n",
    "plt.show()"
   ]
  },
  {
   "cell_type": "markdown",
   "metadata": {},
   "source": [
    "## Validation\n",
    "\n",
    "Let's compare our results with benchmark data."
   ]
  },
  {
   "cell_type": "code",
   "execution_count": null,
   "metadata": {},
   "source": [
    "# Plot centerline velocity profiles\n",
    "plt.figure(figsize=(15, 5))\n",
    "\n",
    "# U-velocity along vertical centerline\n",
    "plt.subplot(121)\n",
    "for re in reynolds_numbers:\n",
    "    results[re].plot_velocity_profile('u', 'y', x=0.5, label=f'Re = {re}')\n",
    "plt.xlabel('y')\n",
    "plt.ylabel('u')\n",
    "plt.title('U-velocity along vertical centerline')\n",
    "plt.legend()\n",
    "plt.grid(True)\n",
    "\n",
    "# V-velocity along horizontal centerline\n",
    "plt.subplot(122)\n",
    "for re in reynolds_numbers:\n",
    "    results[re].plot_velocity_profile('v', 'x', y=0.5, label=f'Re = {re}')\n",
    "plt.xlabel('x')\n",
    "plt.ylabel('v')\n",
    "plt.title('V-velocity along horizontal centerline')\n",
    "plt.legend()\n",
    "plt.grid(True)\n",
    "\n",
    "plt.tight_layout()\n",
    "plt.show()"
   ]
  },
  {
   "cell_type": "markdown",
   "metadata": {},
   "source": [
    "## Vorticity Analysis\n",
    "\n",
    "Let's analyze the vorticity patterns in the cavity."
   ]
  },
  {
   "cell_type": "code",
   "execution_count": null,
   "metadata": {},
   "source": [
    "# Plot vorticity fields\n",
    "plt.figure(figsize=(15, 10))\n",
    "\n",
    "for i, re in enumerate(reynolds_numbers):\n",
    "    plt.subplot(2, 2, i+1)\n",
    "    results[re].plot_vorticity_field(plane='z', position=0.5)\n",
    "    plt.title(f'Vorticity Field (Re = {re})')\n",
    "\n",
    "plt.tight_layout()\n",
    "plt.show()"
   ]
  },
  {
   "cell_type": "markdown",
   "metadata": {},
   "source": [
    "## Best Practices\n",
    "\n",
    "Here are some best practices for lid-driven cavity simulations:\n",
    "\n",
    "1. Mesh Resolution:\n",
    "   - Use finer mesh near walls\n",
    "   - Ensure sufficient resolution for vortices\n",
    "   - Consider adaptive refinement\n",
    "\n",
    "2. Time Stepping:\n",
    "   - Use appropriate time step size\n",
    "   - Consider CFL number\n",
    "   - Monitor convergence\n",
    "\n",
    "3. Boundary Conditions:\n",
    "   - Implement proper no-slip conditions\n",
    "   - Handle corner singularities\n",
    "   - Use periodic conditions when appropriate\n",
    "\n",
    "4. Validation:\n",
    "   - Compare with benchmark data\n",
    "   - Check conservation properties\n",
    "   - Monitor flow patterns"
   ]
  },
  {
   "cell_type": "markdown",
   "metadata": {},
   "source": [
    "## Exercises\n",
    "\n",
    "1. Try different mesh resolutions\n",
    "2. Experiment with different time steps\n",
    "3. Study corner vortex behavior\n",
    "4. Analyze energy dissipation\n",
    "\n",
    "## Next Steps\n",
    "\n",
    "- Try the turbulent flow example\n",
    "- Explore heat transfer cases\n",
    "- Learn about multi-phase flows"
   ]
  }
 ],
 "metadata": {
  "kernelspec": {
   "display_name": "Python 3.11",
   "language": "python",
   "name": "python3"
  },
  "language_info": {
   "codemirror_mode": {
    "name": "ipython",
    "version": 3
   },
   "file_extension": ".py",
   "mimetype": "text/x-python",
   "name": "python",
   "nbconvert_exporter": "python",
   "pygments_lexer": "ipython3",
   "version": "3.11.0"
  }
 },
 "nbformat": 4,
 "nbformat_minor": 4
} 
