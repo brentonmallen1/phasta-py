{
 "cells": [
  {
   "cell_type": "markdown",
   "metadata": {},
   "source": [
    "# Turbulence Modeling Example\n",
    "\n",
    "This notebook demonstrates various turbulence modeling approaches in PHASTA, including RANS, LES, and hybrid methods."
   ]
  },
  {
   "cell_type": "code",
   "execution_count": null,
   "metadata": {},
   "source": [
    "import numpy as np\n",
    "import matplotlib.pyplot as plt\n",
    "from phasta import FlowSolver, FlowConfig, Mesh, TurbulenceModelConfig\n",
    "\n",
    "# Set up plotting style\n",
    "plt.style.use('seaborn-v0_8-whitegrid')"
   ]
  },
  {
   "cell_type": "markdown",
   "metadata": {},
   "source": [
    "## Problem Setup\n",
    "\n",
    "We'll simulate flow over a backward-facing step with the following parameters:\n",
    "- Step height: 1 unit\n",
    "- Channel height: 3 units\n",
    "- Channel length: 20 units\n",
    "- Inlet velocity: 1 unit/s\n",
    "- Reynolds number: 5000"
   ]
  },
  {
   "cell_type": "code",
   "execution_count": null,
   "metadata": {},
   "source": [
    "# Create base configuration\n",
    "config = FlowConfig()\n",
    "config.domain = {\n",
    "    'step_height': 1.0,\n",
    "    'channel_height': 3.0,\n",
    "    'channel_length': 20.0,\n",
    "    'mesh_size': 0.05\n",
    "}\n",
    "\n",
    "config.flow = {\n",
    "    'inlet_velocity': 1.0,\n",
    "    'reynolds_number': 5000,\n",
    "    'fluid_density': 1.0,\n",
    "    'fluid_viscosity': 0.0002\n",
    "}\n",
    "\n",
    "config.boundary_conditions = {\n",
    "    'inlet': 'velocity',\n",
    "    'outlet': 'pressure',\n",
    "    'walls': 'no-slip'\n",
    "}"
   ]
  },
  {
   "cell_type": "markdown",
   "metadata": {},
   "source": [
    "## RANS Models\n",
    "\n",
    "Let's compare different RANS models: k-ε, k-ω, and Spalart-Allmaras."
   ]
  },
  {
   "cell_type": "code",
   "execution_count": null,
   "metadata": {},
   "source": [
    "# Create mesh\n",
    "mesh = Mesh.generate_backward_step_2d(\n",
    "    step_height=config.domain['step_height'],\n",
    "    channel_height=config.domain['channel_height'],\n",
    "    channel_length=config.domain['channel_length'],\n",
    "    nx=400,\n",
    "    ny=60\n",
    ")\n",
    "\n",
    "# Plot mesh\n",
    "plt.figure(figsize=(12, 4))\n",
    "mesh.plot()\n",
    "plt.title('Backward-Facing Step Mesh')\n",
    "plt.show()"
   ]
  },
  {
   "cell_type": "code",
   "execution_count": null,
   "metadata": {},
   "source": [
    "# Run simulations with different RANS models\n",
    "rans_models = ['k-epsilon', 'k-omega', 'spalart-allmaras']\n",
    "rans_results = {}\n",
    "\n",
    "for model in rans_models:\n",
    "    # Configure turbulence model\n",
    "    turb_config = TurbulenceModelConfig()\n",
    "    turb_config.model = model\n",
    "    turb_config.wall_treatment = 'standard'\n",
    "    \n",
    "    # Create and run solver\n",
    "    solver = FlowSolver(config, mesh, turbulence_config=turb_config)\n",
    "    rans_results[model] = solver.solve(max_iterations=2000, convergence_tolerance=1e-6)\n",
    "    \n",
    "    print(f\"\\n{model.upper()} Model Results:\")\n",
    "    print(f\"Converged: {rans_results[model].converged}\")\n",
    "    print(f\"Final residual: {rans_results[model].final_residual}\")\n",
    "    print(f\"Iterations: {rans_results[model].iterations}\")"
   ]
  },
  {
   "cell_type": "markdown",
   "metadata": {},
   "source": [
    "## Compare RANS Results\n",
    "\n",
    "Plot velocity profiles and turbulent quantities for different RANS models."
   ]
  },
  {
   "cell_type": "code",
   "execution_count": null,
   "metadata": {},
   "source": [
    "# Plot velocity profiles\n",
    "plt.figure(figsize=(15, 5))\n",
    "\n",
    "# Plot at x = 5 (after step)\n",
    "plt.subplot(121)\n",
    "x_pos = 5.0\n",
    "for model in rans_models:\n",
    "    y, u = rans_results[model].get_velocity_profile(x_pos)\n",
    "    plt.plot(u, y, label=model)\n",
    "plt.xlabel('Velocity')\n",
    "plt.ylabel('y')\n",
    "plt.title(f'Velocity Profile at x = {x_pos}')\n",
    "plt.legend()\n",
    "plt.grid(True)\n",
    "\n",
    "# Plot turbulent kinetic energy\n",
    "plt.subplot(122)\n",
    "for model in rans_models:\n",
    "    y, k = rans_results[model].get_turbulent_kinetic_energy(x_pos)\n",
    "    plt.plot(k, y, label=model)\n",
    "plt.xlabel('Turbulent Kinetic Energy')\n",
    "plt.ylabel('y')\n",
    "plt.title(f'TKE Profile at x = {x_pos}')\n",
    "plt.legend()\n",
    "plt.grid(True)\n",
    "\n",
    "plt.tight_layout()\n",
    "plt.show()"
   ]
  },
  {
   "cell_type": "markdown",
   "metadata": {},
   "source": [
    "## LES Simulation\n",
    "\n",
    "Now let's run a Large Eddy Simulation with the Smagorinsky model."
   ]
  },
  {
   "cell_type": "code",
   "execution_count": null,
   "metadata": {},
   "source": [
    "# Configure LES\n",
    "les_config = TurbulenceModelConfig()\n",
    "les_config.model = 'smagorinsky'\n",
    "les_config.smagorinsky_constant = 0.1\n",
    "les_config.wall_treatment = 'wall-modeled'\n",
    "\n",
    "# Create and run solver\n",
    "les_solver = FlowSolver(config, mesh, turbulence_config=les_config)\n",
    "les_results = les_solver.solve(max_iterations=2000, convergence_tolerance=1e-6)\n",
    "\n",
    "print(\"\\nLES Results:\")\n",
    "print(f\"Converged: {les_results.converged}\")\n",
    "print(f\"Final residual: {les_results.final_residual}\")\n",
    "print(f\"Iterations: {les_results.iterations}\")"
   ]
  },
  {
   "cell_type": "markdown",
   "metadata": {},
   "source": [
    "## Compare RANS and LES Results\n",
    "\n",
    "Plot instantaneous and time-averaged results from LES compared to RANS."
   ]
  },
  {
   "cell_type": "code",
   "execution_count": null,
   "metadata": {},
   "source": [
    "plt.figure(figsize=(15, 10))\n",
    "\n",
    "# Plot instantaneous velocity field\n",
    "plt.subplot(221)\n",
    "les_results.plot_velocity_magnitude()\n",
    "plt.title('LES: Instantaneous Velocity')\n",
    "plt.colorbar(label='Velocity')\n",
    "\n",
    "# Plot time-averaged velocity field\n",
    "plt.subplot(222)\n",
    "les_results.plot_time_averaged_velocity()\n",
    "plt.title('LES: Time-Averaged Velocity')\n",
    "plt.colorbar(label='Velocity')\n",
    "\n",
    "# Plot velocity profiles\n",
    "plt.subplot(223)\n",
    "x_pos = 5.0\n",
    "y_les, u_les = les_results.get_time_averaged_velocity_profile(x_pos)\n",
    "plt.plot(u_les, y_les, 'k-', label='LES (time-averaged)')\n",
    "for model in rans_models:\n",
    "    y, u = rans_results[model].get_velocity_profile(x_pos)\n",
    "    plt.plot(u, y, '--', label=f'{model} (RANS)')\n",
    "plt.xlabel('Velocity')\n",
    "plt.ylabel('y')\n",
    "plt.title(f'Velocity Profile at x = {x_pos}')\n",
    "plt.legend()\n",
    "plt.grid(True)\n",
    "\n",
    "# Plot turbulent quantities\n",
    "plt.subplot(224)\n",
    "y_les, k_les = les_results.get_time_averaged_tke(x_pos)\n",
    "plt.plot(k_les, y_les, 'k-', label='LES (time-averaged)')\n",
    "for model in rans_models:\n",
    "    y, k = rans_results[model].get_turbulent_kinetic_energy(x_pos)\n",
    "    plt.plot(k, y, '--', label=f'{model} (RANS)')\n",
    "plt.xlabel('Turbulent Kinetic Energy')\n",
    "plt.ylabel('y')\n",
    "plt.title(f'TKE Profile at x = {x_pos}')\n",
    "plt.legend()\n",
    "plt.grid(True)\n",
    "\n",
    "plt.tight_layout()\n",
    "plt.show()"
   ]
  },
  {
   "cell_type": "markdown",
   "metadata": {},
   "source": [
    "## Hybrid RANS/LES\n",
    "\n",
    "Finally, let's try a hybrid RANS/LES approach using Detached Eddy Simulation (DES)."
   ]
  },
  {
   "cell_type": "code",
   "execution_count": null,
   "metadata": {},
   "source": [
    "# Configure DES\n",
    "des_config = TurbulenceModelConfig()\n",
    "des_config.model = 'des'\n",
    "des_config.base_model = 'spalart-allmaras'\n",
    "des_config.wall_treatment = 'hybrid'\n",
    "\n",
    "# Create and run solver\n",
    "des_solver = FlowSolver(config, mesh, turbulence_config=des_config)\n",
    "des_results = des_solver.solve(max_iterations=2000, convergence_tolerance=1e-6)\n",
    "\n",
    "print(\"\\nDES Results:\")\n",
    "print(f\"Converged: {des_results.converged}\")\n",
    "print(f\"Final residual: {des_results.final_residual}\")\n",
    "print(f\"Iterations: {des_results.iterations}\")"
   ]
  },
  {
   "cell_type": "markdown",
   "metadata": {},
   "source": [
    "## Compare All Approaches\n",
    "\n",
    "Plot velocity profiles and turbulent quantities for all modeling approaches."
   ]
  },
  {
   "cell_type": "code",
   "execution_count": null,
   "metadata": {},
   "source": [
    "plt.figure(figsize=(15, 5))\n",
    "\n",
    "# Plot velocity profiles\n",
    "plt.subplot(121)\n",
    "x_pos = 5.0\n",
    "y_des, u_des = des_results.get_time_averaged_velocity_profile(x_pos)\n",
    "plt.plot(u_des, y_des, 'k-', label='DES')\n",
    "y_les, u_les = les_results.get_time_averaged_velocity_profile(x_pos)\n",
    "plt.plot(u_les, y_les, 'b--', label='LES')\n",
    "for model in rans_models:\n",
    "    y, u = rans_results[model].get_velocity_profile(x_pos)\n",
    "    plt.plot(u, y, ':', label=f'{model} (RANS)')\n",
    "plt.xlabel('Velocity')\n",
    "plt.ylabel('y')\n",
    "plt.title(f'Velocity Profile at x = {x_pos}')\n",
    "plt.legend()\n",
    "plt.grid(True)\n",
    "\n",
    "# Plot turbulent quantities\n",
    "plt.subplot(122)\n",
    "y_des, k_des = des_results.get_time_averaged_tke(x_pos)\n",
    "plt.plot(k_des, y_des, 'k-', label='DES')\n",
    "y_les, k_les = les_results.get_time_averaged_tke(x_pos)\n",
    "plt.plot(k_les, y_les, 'b--', label='LES')\n",
    "for model in rans_models:\n",
    "    y, k = rans_results[model].get_turbulent_kinetic_energy(x_pos)\n",
    "    plt.plot(k, y, ':', label=f'{model} (RANS)')\n",
    "plt.xlabel('Turbulent Kinetic Energy')\n",
    "plt.ylabel('y')\n",
    "plt.title(f'TKE Profile at x = {x_pos}')\n",
    "plt.legend()\n",
    "plt.grid(True)\n",
    "\n",
    "plt.tight_layout()\n",
    "plt.show()"
   ]
  },
  {
   "cell_type": "markdown",
   "metadata": {},
   "source": [
    "## Exercises\n",
    "\n",
    "1. Try different RANS models and compare their performance\n",
    "2. Experiment with LES parameters (filter width, Smagorinsky constant)\n",
    "3. Modify the DES configuration and observe the blending behavior\n",
    "4. Compare computational cost and accuracy of different approaches\n",
    "\n",
    "## Next Steps\n",
    "\n",
    "- Try the heat transfer example\n",
    "- Explore multi-phase flow simulation\n",
    "- Learn about chemical reactions"
   ]
  }
 ],
 "metadata": {
  "kernelspec": {
   "display_name": "Python 3.11",
   "language": "python",
   "name": "python3"
  },
  "language_info": {
   "codemirror_mode": {
    "name": "ipython",
    "version": 3
   },
   "file_extension": ".py",
   "mimetype": "text/x-python",
   "name": "python",
   "nbconvert_exporter": "python",
   "pygments_lexer": "ipython3",
   "version": "3.11.0"
  }
 },
 "nbformat": 4,
 "nbformat_minor": 4
} 
