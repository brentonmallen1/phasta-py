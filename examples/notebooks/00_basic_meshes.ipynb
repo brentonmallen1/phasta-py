{
 "cells": [
  {
   "cell_type": "markdown",
   "metadata": {},
   "source": [
    "# Basic Mesh Generation in PHASTA\n",
    "\n",
    "This notebook demonstrates basic mesh generation and manipulation in PHASTA, including:\n",
    "- Structured mesh generation\n",
    "- Unstructured mesh generation\n",
    "- Mesh refinement\n",
    "- Mesh quality assessment"
   ]
  },
  {
   "cell_type": "code",
   "execution_count": null,
   "metadata": {},
   "source": [
    "import numpy as np\n",
    "import matplotlib.pyplot as plt\n",
    "from phasta import Mesh, MeshConfig\n",
    "\n",
    "# Set up plotting style\n",
    "plt.style.use('seaborn-v0_8-whitegrid')"
   ]
  },
  {
   "cell_type": "markdown",
   "metadata": {},
   "source": [
    "## Structured Mesh Generation\n",
    "\n",
    "Let's create different types of structured meshes."
   ]
  },
  {
   "cell_type": "code",
   "execution_count": null,
   "metadata": {},
   "source": [
    "# Create mesh configuration\n",
    "mesh_config = MeshConfig()\n",
    "mesh_config.domain = {\n",
    "    'width': 1.0,\n",
    "    'height': 1.0,\n",
    "    'depth': 1.0\n",
    "}\n",
    "\n",
    "# Generate different types of structured meshes\n",
    "meshes = {}\n",
    "\n",
    "# Uniform mesh\n",
    "meshes['uniform'] = Mesh.generate_structured_3d(\n",
    "    width=mesh_config.domain['width'],\n",
    "    height=mesh_config.domain['height'],\n",
    "    depth=mesh_config.domain['depth'],\n",
    "    nx=20, ny=20, nz=20\n",
    ")\n",
    "\n",
    "# Stretched mesh\n",
    "meshes['stretched'] = Mesh.generate_structured_3d(\n",
    "    width=mesh_config.domain['width'],\n",
    "    height=mesh_config.domain['height'],\n",
    "    depth=mesh_config.domain['depth'],\n",
    "    nx=20, ny=20, nz=20,\n",
    "    stretching='geometric',\n",
    "    beta=1.1\n",
    ")\n",
    "\n",
    "# O-grid mesh\n",
    "meshes['ogrid'] = Mesh.generate_ogrid_3d(\n",
    "    radius=0.1,\n",
    "    outer_radius=0.5,\n",
    "    height=1.0,\n",
    "    nr=10, ntheta=20, nz=20\n",
    ")\n",
    "\n",
    "# Plot meshes\n",
    "plt.figure(figsize=(15, 5))\n",
    "for i, (name, mesh) in enumerate(meshes.items()):\n",
    "    plt.subplot(1, 3, i+1)\n",
    "    mesh.plot_slice('z', 0.5)\n",
    "    plt.title(f'{name.capitalize()} Mesh')\n",
    "plt.tight_layout()\n",
    "plt.show()"
   ]
  },
  {
   "cell_type": "markdown",
   "metadata": {},
   "source": [
    "## Unstructured Mesh Generation\n",
    "\n",
    "Let's create and examine unstructured meshes."
   ]
  },
  {
   "cell_type": "code",
   "execution_count": null,
   "metadata": {},
   "source": [
    "# Generate unstructured meshes\n",
    "unstructured_meshes = {}\n",
    "\n",
    "# Delaunay mesh\n",
    "unstructured_meshes['delaunay'] = Mesh.generate_delaunay_3d(\n",
    "    points=np.random.rand(1000, 3),\n",
    "    domain=mesh_config.domain\n",
    ")\n",
    "\n",
    "# Voronoi mesh\n",
    "unstructured_meshes['voronoi'] = Mesh.generate_voronoi_3d(\n",
    "    points=np.random.rand(100, 3),\n",
    "    domain=mesh_config.domain\n",
    ")\n",
    "\n",
    "# Plot unstructured meshes\n",
    "plt.figure(figsize=(15, 5))\n",
    "for i, (name, mesh) in enumerate(unstructured_meshes.items()):\n",
    "    plt.subplot(1, 2, i+1)\n",
    "    mesh.plot_slice('z', 0.5)\n",
    "    plt.title(f'{name.capitalize()} Mesh')\n",
    "plt.tight_layout()\n",
    "plt.show()"
   ]
  },
  {
   "cell_type": "markdown",
   "metadata": {},
   "source": [
    "## Mesh Refinement\n",
    "\n",
    "Let's explore different mesh refinement techniques."
   ]
  },
  {
   "cell_type": "code",
   "execution_count": null,
   "metadata": {},
   "source": [
    "# Create base mesh\n",
    "base_mesh = Mesh.generate_structured_3d(\n",
    "    width=mesh_config.domain['width'],\n",
    "    height=mesh_config.domain['height'],\n",
    "    depth=mesh_config.domain['depth'],\n",
    "    nx=10, ny=10, nz=10\n",
    ")\n",
    "\n",
    "# Apply different refinement techniques\n",
    "refined_meshes = {}\n",
    "\n",
    "# Uniform refinement\n",
    "refined_meshes['uniform'] = base_mesh.refine_uniform(levels=1)\n",
    "\n",
    "# Adaptive refinement based on gradient\n",
    "refined_meshes['adaptive'] = base_mesh.refine_adaptive(\n",
    "    criterion='gradient',\n",
    "    threshold=0.1\n",
    ")\n",
    "\n",
    "# Plot refined meshes\n",
    "plt.figure(figsize=(15, 5))\n",
    "for i, (name, mesh) in enumerate(refined_meshes.items()):\n",
    "    plt.subplot(1, 2, i+1)\n",
    "    mesh.plot_slice('z', 0.5)\n",
    "    plt.title(f'{name.capitalize()} Refinement')\n",
    "plt.tight_layout()\n",
    "plt.show()"
   ]
  },
  {
   "cell_type": "markdown",
   "metadata": {},
   "source": [
    "## Mesh Quality Assessment\n",
    "\n",
    "Let's analyze the quality of different meshes."
   ]
  },
  {
   "cell_type": "code",
   "execution_count": null,
   "metadata": {},
   "source": [
    "# Assess mesh quality\n",
    "quality_metrics = {}\n",
    "\n",
    "for name, mesh in meshes.items():\n",
    "    quality_metrics[name] = mesh.assess_quality()\n",
    "\n",
    "# Plot quality metrics\n",
    "plt.figure(figsize=(15, 5))\n",
    "\n",
    "# Plot aspect ratio distribution\n",
    "plt.subplot(131)\n",
    "for name, metrics in quality_metrics.items():\n",
    "    plt.hist(metrics['aspect_ratio'], alpha=0.5, label=name)\n",
    "plt.xlabel('Aspect Ratio')\n",
    "plt.ylabel('Count')\n",
    "plt.title('Aspect Ratio Distribution')\n",
    "plt.legend()\n",
    "\n",
    "# Plot skewness distribution\n",
    "plt.subplot(132)\n",
    "for name, metrics in quality_metrics.items():\n",
    "    plt.hist(metrics['skewness'], alpha=0.5, label=name)\n",
    "plt.xlabel('Skewness')\n",
    "plt.ylabel('Count')\n",
    "plt.title('Skewness Distribution')\n",
    "plt.legend()\n",
    "\n",
    "# Plot volume distribution\n",
    "plt.subplot(133)\n",
    "for name, metrics in quality_metrics.items():\n",
    "    plt.hist(metrics['volume'], alpha=0.5, label=name)\n",
    "plt.xlabel('Volume')\n",
    "plt.ylabel('Count')\n",
    "plt.title('Volume Distribution')\n",
    "plt.legend()\n",
    "\n",
    "plt.tight_layout()\n",
    "plt.show()"
   ]
  },
  {
   "cell_type": "markdown",
   "metadata": {},
   "source": [
    "## Best Practices\n",
    "\n",
    "Here are some best practices for mesh generation in PHASTA:\n",
    "\n",
    "1. Mesh Type Selection:\n",
    "   - Use structured meshes for simple geometries\n",
    "   - Use unstructured meshes for complex geometries\n",
    "   - Consider hybrid approaches when appropriate\n",
    "\n",
    "2. Mesh Quality:\n",
    "   - Monitor aspect ratios\n",
    "   - Check element skewness\n",
    "   - Ensure proper connectivity\n",
    "\n",
    "3. Refinement:\n",
    "   - Use adaptive refinement for efficiency\n",
    "   - Consider solution gradients\n",
    "   - Balance resolution and cost\n",
    "\n",
    "4. Performance:\n",
    "   - Optimize element count\n",
    "   - Consider parallel efficiency\n",
    "   - Use appropriate data structures"
   ]
  },
  {
   "cell_type": "markdown",
   "metadata": {},
   "source": [
    "## Exercises\n",
    "\n",
    "1. Try different mesh types\n",
    "2. Experiment with refinement strategies\n",
    "3. Analyze mesh quality metrics\n",
    "4. Create custom mesh generators\n",
    "\n",
    "## Next Steps\n",
    "\n",
    "- Try the GPU acceleration example\n",
    "- Explore parallel computing features\n",
    "- Learn about advanced visualization"
   ]
  }
 ],
 "metadata": {
  "kernelspec": {
   "display_name": "Python 3.11",
   "language": "python",
   "name": "python3"
  },
  "language_info": {
   "codemirror_mode": {
    "name": "ipython",
    "version": 3
   },
   "file_extension": ".py",
   "mimetype": "text/x-python",
   "name": "python",
   "nbconvert_exporter": "python",
   "pygments_lexer": "ipython3",
   "version": "3.11.0"
  }
 },
 "nbformat": 4,
 "nbformat_minor": 4
} 
