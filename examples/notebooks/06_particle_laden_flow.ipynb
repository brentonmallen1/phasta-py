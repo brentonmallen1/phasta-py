{
 "cells": [
  {
   "cell_type": "markdown",
   "metadata": {},
   "source": [
    "# Particle-Laden Flow Example\n",
    "\n",
    "This notebook demonstrates particle-laden flow simulations in PHASTA, including particle tracking, collisions, and fluid-particle interactions."
   ]
  },
  {
   "cell_type": "code",
   "execution_count": null,
   "metadata": {},
   "source": [
    "import numpy as np\n",
    "import matplotlib.pyplot as plt\n",
    "from phasta import FlowSolver, FlowConfig, Mesh, ParticleConfig\n",
    "\n",
    "# Set up plotting style\n",
    "plt.style.use('seaborn-v0_8-whitegrid')"
   ]
  },
  {
   "cell_type": "markdown",
   "metadata": {},
   "source": [
    "## Problem Setup\n",
    "\n",
    "We'll simulate particles in a channel flow with the following parameters:\n",
    "- Channel dimensions: 1m × 0.1m\n",
    "- Particle diameter: 0.001m\n",
    "- Particle density: 2500 kg/m³\n",
    "- Number of particles: 1000\n",
    "- Inlet velocity: 1 m/s\n",
    "- Reynolds number: 1000"
   ]
  },
  {
   "cell_type": "code",
   "execution_count": null,
   "metadata": {},
   "source": [
    "# Create base configuration\n",
    "config = FlowConfig()\n",
    "config.domain = {\n",
    "    'width': 1.0,\n",
    "    'height': 0.1,\n",
    "    'mesh_size': 0.005\n",
    "}\n",
    "\n",
    "config.flow = {\n",
    "    'inlet_velocity': 1.0,\n",
    "    'reynolds_number': 1000,\n",
    "    'fluid_density': 1000.0,\n",
    "    'fluid_viscosity': 0.001,\n",
    "    'time_step': 0.001,\n",
    "    'max_time': 1.0\n",
    "}\n",
    "\n",
    "config.boundary_conditions = {\n",
    "    'inlet': 'velocity',\n",
    "    'outlet': 'outflow',\n",
    "    'top_wall': 'no-slip',\n",
    "    'bottom_wall': 'no-slip'\n",
    "}"
   ]
  },
  {
   "cell_type": "markdown",
   "metadata": {},
   "source": [
    "## Particle-Laden Channel Flow\n",
    "\n",
    "Let's simulate particles in a channel flow using the Eulerian-Lagrangian approach."
   ]
  },
  {
   "cell_type": "code",
   "execution_count": null,
   "metadata": {},
   "source": [
    "# Create mesh\n",
    "mesh = Mesh.generate_channel_2d(\n",
    "    width=config.domain['width'],\n",
    "    height=config.domain['height'],\n",
    "    nx=200,\n",
    "    ny=20\n",
    ")\n",
    "\n",
    "# Plot mesh\n",
    "plt.figure(figsize=(12, 2))\n",
    "mesh.plot()\n",
    "plt.title('Channel Mesh')\n",
    "plt.show()"
   ]
  },
  {
   "cell_type": "code",
   "execution_count": null,
   "metadata": {},
   "source": [
    "# Configure particles\n",
    "particle_config = ParticleConfig()\n",
    "particle_config.number_of_particles = 1000\n",
    "particle_config.particle_properties = {\n",
    "    'diameter': 0.001,\n",
    "    'density': 2500.0,\n",
    "    'restitution': 0.8,\n",
    "    'friction': 0.3\n",
    "}\n",
    "particle_config.initial_conditions = {\n",
    "    'distribution': 'random',\n",
    "    'region': {\n",
    "        'x_min': 0.0,\n",
    "        'x_max': 0.1,\n",
    "        'y_min': 0.0,\n",
    "        'y_max': 0.1\n",
    "    },\n",
    "    'velocity': [1.0, 0.0]\n",
    "}\n",
    "particle_config.coupling = {\n",
    "    'two_way': True,\n",
    "    'drag_model': 'schiller_naumann',\n",
    "    'lift_model': 'saffman_mei'\n",
    "}\n",
    "particle_config.collisions = {\n",
    "    'enabled': True,\n",
    "    'model': 'soft_sphere',\n",
    "    'search_method': 'grid'\n",
    "}\n",
    "\n",
    "# Create and run solver\n",
    "solver = FlowSolver(config, mesh, particle_config=particle_config)\n",
    "results = solver.solve()\n",
    "\n",
    "print(\"\\nParticle-Laden Flow Results:\")\n",
    "print(f\"Simulation completed: {results.completed}\")\n",
    "print(f\"Final time: {results.final_time}\")\n",
    "print(f\"Number of time steps: {results.time_steps}\")"
   ]
  },
  {
   "cell_type": "markdown",
   "metadata": {},
   "source": [
    "## Visualize Results\n",
    "\n",
    "Plot particle positions, velocity field, and particle statistics."
   ]
  },
  {
   "cell_type": "code",
   "execution_count": null,
   "metadata": {},
   "source": [
    "# Plot results at different times\n",
    "times = [0.0, 0.25, 0.5, 0.75, 1.0]\n",
    "plt.figure(figsize=(15, 10))\n",
    "\n",
    "for i, t in enumerate(times):\n",
    "    plt.subplot(2, 3, i+1)\n",
    "    results.plot_particle_positions(t)\n",
    "    plt.title(f'Particle Positions at t = {t}s')\n",
    "    plt.colorbar(label='Particle Diameter (m)')\n",
    "\n",
    "plt.tight_layout()\n",
    "plt.show()"
   ]
  },
  {
   "cell_type": "code",
   "execution_count": null,
   "metadata": {},
   "source": [
    "# Plot velocity field and particle statistics\n",
    "plt.figure(figsize=(15, 5))\n",
    "\n",
    "# Plot velocity field\n",
    "plt.subplot(131)\n",
    "results.plot_velocity_magnitude(0.5)\n",
    "plt.title('Velocity Field at t = 0.5s')\n",
    "plt.colorbar(label='Velocity (m/s)')\n",
    "\n",
    "# Plot particle concentration\n",
    "plt.subplot(132)\n",
    "results.plot_particle_concentration(0.5)\n",
    "plt.title('Particle Concentration at t = 0.5s')\n",
    "plt.colorbar(label='Concentration (particles/m³)')\n",
    "\n",
    "# Plot particle velocity distribution\n",
    "plt.subplot(133)\n",
    "results.plot_particle_velocity_distribution(0.5)\n",
    "plt.title('Particle Velocity Distribution at t = 0.5s')\n",
    "plt.colorbar(label='Velocity (m/s)')\n",
    "\n",
    "plt.tight_layout()\n",
    "plt.show()"
   ]
  },
  {
   "cell_type": "markdown",
   "metadata": {},
   "source": [
    "## Particle Collision Analysis\n",
    "\n",
    "Now let's analyze particle collisions and their effects."
   ]
  },
  {
   "cell_type": "code",
   "execution_count": null,
   "metadata": {},
   "source": [
    "# Plot collision statistics\n",
    "plt.figure(figsize=(15, 5))\n",
    "\n",
    "# Plot collision frequency\n",
    "plt.subplot(131)\n",
    "results.plot_collision_frequency()\n",
    "plt.title('Collision Frequency')\n",
    "plt.xlabel('Time (s)')\n",
    "plt.ylabel('Collisions/s')\n",
    "plt.grid(True)\n",
    "\n",
    "# Plot collision energy\n",
    "plt.subplot(132)\n",
    "results.plot_collision_energy()\n",
    "plt.title('Collision Energy')\n",
    "plt.xlabel('Time (s)')\n",
    "plt.ylabel('Energy (J)')\n",
    "plt.grid(True)\n",
    "\n",
    "# Plot particle size distribution\n",
    "plt.subplot(133)\n",
    "results.plot_particle_size_distribution()\n",
    "plt.title('Particle Size Distribution')\n",
    "plt.xlabel('Diameter (m)')\n",
    "plt.ylabel('Number of Particles')\n",
    "plt.grid(True)\n",
    "\n",
    "plt.tight_layout()\n",
    "plt.show()"
   ]
  },
  {
   "cell_type": "markdown",
   "metadata": {},
   "source": [
    "## Particle-Wall Interaction\n",
    "\n",
    "Let's analyze particle-wall interactions and deposition."
   ]
  },
  {
   "cell_type": "code",
   "execution_count": null,
   "metadata": {},
   "source": [
    "# Plot wall interaction statistics\n",
    "plt.figure(figsize=(15, 5))\n",
    "\n",
    "# Plot wall collision frequency\n",
    "plt.subplot(131)\n",
    "results.plot_wall_collision_frequency()\n",
    "plt.title('Wall Collision Frequency')\n",
    "plt.xlabel('Time (s)')\n",
    "plt.ylabel('Collisions/s')\n",
    "plt.grid(True)\n",
    "\n",
    "# Plot particle deposition\n",
    "plt.subplot(132)\n",
    "results.plot_particle_deposition()\n",
    "plt.title('Particle Deposition')\n",
    "plt.xlabel('Position (m)')\n",
    "plt.ylabel('Deposited Mass (kg)')\n",
    "plt.grid(True)\n",
    "\n",
    "# Plot wall shear stress\n",
    "plt.subplot(133)\n",
    "results.plot_wall_shear_stress()\n",
    "plt.title('Wall Shear Stress')\n",
    "plt.xlabel('Position (m)')\n",
    "plt.ylabel('Shear Stress (Pa)')\n",
    "plt.grid(True)\n",
    "\n",
    "plt.tight_layout()\n",
    "plt.show()"
   ]
  },
  {
   "cell_type": "markdown",
   "metadata": {},
   "source": [
    "## Exercises\n",
    "\n",
    "1. Try different particle sizes and densities\n",
    "2. Experiment with different collision models\n",
    "3. Study the effect of particle shape on flow\n",
    "4. Compare different drag and lift models\n",
    "\n",
    "## Next Steps\n",
    "\n",
    "- Try the phase change example\n",
    "- Explore turbulent particle-laden flows\n",
    "- Learn about particle agglomeration"
   ]
  }
 ],
 "metadata": {
  "kernelspec": {
   "display_name": "Python 3.11",
   "language": "python",
   "name": "python3"
  },
  "language_info": {
   "codemirror_mode": {
    "name": "ipython",
    "version": 3
   },
   "file_extension": ".py",
   "mimetype": "text/x-python",
   "name": "python",
   "nbconvert_exporter": "python",
   "pygments_lexer": "ipython3",
   "version": "3.11.0"
  }
 },
 "nbformat": 4,
 "nbformat_minor": 4
} 
