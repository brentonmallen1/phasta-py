{
 "cells": [
  {
   "cell_type": "markdown",
   "metadata": {},
   "source": [
    "# Multi-Phase Flow Example\n",
    "\n",
    "This notebook demonstrates various multi-phase flow phenomena in PHASTA, including interface tracking, phase change, and droplet dynamics."
   ]
  },
  {
   "cell_type": "code",
   "execution_count": null,
   "metadata": {},
   "source": [
    "import numpy as np\n",
    "import matplotlib.pyplot as plt\n",
    "from phasta import FlowSolver, FlowConfig, Mesh, MultiphaseConfig\n",
    "\n",
    "# Set up plotting style\n",
    "plt.style.use('seaborn-v0_8-whitegrid')"
   ]
  },
  {
   "cell_type": "markdown",
   "metadata": {},
   "source": [
    "## Problem Setup\n",
    "\n",
    "We'll simulate a rising bubble with the following parameters:\n",
    "- Domain size: 2m × 4m\n",
    "- Bubble diameter: 0.2m\n",
    "- Initial position: (1m, 0.5m)\n",
    "- Liquid density: 1000 kg/m³\n",
    "- Gas density: 1.2 kg/m³\n",
    "- Surface tension: 0.072 N/m"
   ]
  },
  {
   "cell_type": "code",
   "execution_count": null,
   "metadata": {},
   "source": [
    "# Create base configuration\n",
    "config = FlowConfig()\n",
    "config.domain = {\n",
    "    'width': 2.0,\n",
    "    'height': 4.0,\n",
    "    'mesh_size': 0.02\n",
    "}\n",
    "\n",
    "config.flow = {\n",
    "    'gravity': [0.0, -9.81, 0.0],\n",
    "    'time_step': 0.001,\n",
    "    'max_time': 2.0\n",
    "}\n",
    "\n",
    "config.boundary_conditions = {\n",
    "    'left_wall': 'no-slip',\n",
    "    'right_wall': 'no-slip',\n",
    "    'top_wall': 'outflow',\n",
    "    'bottom_wall': 'no-slip'\n",
    "}"
   ]
  },
  {
   "cell_type": "markdown",
   "metadata": {},
   "source": [
    "## Rising Bubble Simulation\n",
    "\n",
    "Let's simulate a rising bubble using the Volume of Fluid (VOF) method."
   ]
  },
  {
   "cell_type": "code",
   "execution_count": null,
   "metadata": {},
   "source": [
    "# Create mesh\n",
    "mesh = Mesh.generate_rectangle_2d(\n",
    "    width=config.domain['width'],\n",
    "    height=config.domain['height'],\n",
    "    nx=100,\n",
    "    ny=200\n",
    ")\n",
    "\n",
    "# Plot mesh\n",
    "plt.figure(figsize=(8, 16))\n",
    "mesh.plot()\n",
    "plt.title('Domain Mesh')\n",
    "plt.show()"
   ]
  },
  {
   "cell_type": "code",
   "execution_count": null,
   "metadata": {},
   "source": [
    "# Configure multiphase flow\n",
    "multiphase_config = MultiphaseConfig()\n",
    "multiphase_config.method = 'vof'\n",
    "multiphase_config.phases = {\n",
    "    'liquid': {\n",
    "        'density': 1000.0,\n",
    "        'viscosity': 0.001,\n",
    "        'color': 'blue'\n",
    "    },\n",
    "    'gas': {\n",
    "        'density': 1.2,\n",
    "        'viscosity': 1.8e-5,\n",
    "        'color': 'red'\n",
    "    }\n",
    "}\n",
    "multiphase_config.interface = {\n",
    "    'surface_tension': 0.072,\n",
    "    'curvature_model': 'height_function',\n",
    "    'advection_scheme': 'geometric'\n",
    "}\n",
    "multiphase_config.initial_conditions = {\n",
    "    'bubble': {\n",
    "        'type': 'circle',\n",
    "        'center': [1.0, 0.5],\n",
    "        'radius': 0.1,\n",
    "        'phase': 'gas'\n",
    "    }\n",
    "}\n",
    "\n",
    "# Create and run solver\n",
    "solver = FlowSolver(config, mesh, multiphase_config=multiphase_config)\n",
    "results = solver.solve()\n",
    "\n",
    "print(\"\\nRising Bubble Results:\")\n",
    "print(f\"Simulation completed: {results.completed}\")\n",
    "print(f\"Final time: {results.final_time}\")\n",
    "print(f\"Number of time steps: {results.time_steps}\")"
   ]
  },
  {
   "cell_type": "markdown",
   "metadata": {},
   "source": [
    "## Visualize Results\n",
    "\n",
    "Plot phase distribution, velocity field, and interface curvature."
   ]
  },
  {
   "cell_type": "code",
   "execution_count": null,
   "metadata": {},
   "source": [
    "# Plot results at different times\n",
    "times = [0.0, 0.5, 1.0, 1.5, 2.0]\n",
    "plt.figure(figsize=(15, 12))\n",
    "\n",
    "for i, t in enumerate(times):\n",
    "    plt.subplot(3, 2, i+1)\n",
    "    results.plot_phase_distribution(t)\n",
    "    plt.title(f'Phase Distribution at t = {t}s')\n",
    "    plt.colorbar(label='Volume Fraction')\n",
    "\n",
    "plt.tight_layout()\n",
    "plt.show()"
   ]
  },
  {
   "cell_type": "code",
   "execution_count": null,
   "metadata": {},
   "source": [
    "# Plot velocity field and interface curvature\n",
    "plt.figure(figsize=(15, 5))\n",
    "\n",
    "# Plot velocity field\n",
    "plt.subplot(121)\n",
    "results.plot_velocity_magnitude(1.0)\n",
    "plt.title('Velocity Field at t = 1.0s')\n",
    "plt.colorbar(label='Velocity (m/s)')\n",
    "\n",
    "# Plot interface curvature\n",
    "plt.subplot(122)\n",
    "results.plot_interface_curvature(1.0)\n",
    "plt.title('Interface Curvature at t = 1.0s')\n",
    "plt.colorbar(label='Curvature (1/m)')\n",
    "\n",
    "plt.tight_layout()\n",
    "plt.show()"
   ]
  },
  {
   "cell_type": "markdown",
   "metadata": {},
   "source": [
    "## Droplet Impact Simulation\n",
    "\n",
    "Now let's simulate a droplet impacting a solid surface."
   ]
  },
  {
   "cell_type": "code",
   "execution_count": null,
   "metadata": {},
   "source": [
    "# Create mesh for droplet impact\n",
    "mesh = Mesh.generate_rectangle_2d(\n",
    "    width=0.1,\n",
    "    height=0.2,\n",
    "    nx=50,\n",
    "    ny=100\n",
    ")\n",
    "\n",
    "# Plot mesh\n",
    "plt.figure(figsize=(5, 10))\n",
    "mesh.plot()\n",
    "plt.title('Droplet Impact Mesh')\n",
    "plt.show()"
   ]
  },
  {
   "cell_type": "code",
   "execution_count": null,
   "metadata": {},
   "source": [
    "# Configure droplet impact\n",
    "multiphase_config = MultiphaseConfig()\n",
    "multiphase_config.method = 'vof'\n",
    "multiphase_config.phases = {\n",
    "    'water': {\n",
    "        'density': 1000.0,\n",
    "        'viscosity': 0.001,\n",
    "        'color': 'blue'\n",
    "    },\n",
    "    'air': {\n",
    "        'density': 1.2,\n",
    "        'viscosity': 1.8e-5,\n",
    "        'color': 'red'\n",
    "    }\n",
    "}\n",
    "multiphase_config.interface = {\n",
    "    'surface_tension': 0.072,\n",
    "    'contact_angle': 90.0,\n",
    "    'curvature_model': 'height_function',\n",
    "    'advection_scheme': 'geometric'\n",
    "}\n",
    "multiphase_config.initial_conditions = {\n",
    "    'droplet': {\n",
    "        'type': 'circle',\n",
    "        'center': [0.05, 0.15],\n",
    "        'radius': 0.01,\n",
    "        'phase': 'water',\n",
    "        'velocity': [0.0, -1.0]\n",
    "    }\n",
    "}\n",
    "\n",
    "# Update flow configuration\n",
    "config.flow['time_step'] = 0.0001\n",
    "config.flow['max_time'] = 0.1\n",
    "\n",
    "# Create and run solver\n",
    "solver = FlowSolver(config, mesh, multiphase_config=multiphase_config)\n",
    "results = solver.solve()\n",
    "\n",
    "print(\"\\nDroplet Impact Results:\")\n",
    "print(f\"Simulation completed: {results.completed}\")\n",
    "print(f\"Final time: {results.final_time}\")\n",
    "print(f\"Number of time steps: {results.time_steps}\")"
   ]
  },
  {
   "cell_type": "markdown",
   "metadata": {},
   "source": [
    "## Visualize Droplet Impact Results\n",
    "\n",
    "Plot phase distribution and pressure field during impact."
   ]
  },
  {
   "cell_type": "code",
   "execution_count": null,
   "metadata": {},
   "source": [
    "# Plot results at different times\n",
    "times = [0.0, 0.02, 0.04, 0.06, 0.08, 0.1]\n",
    "plt.figure(figsize=(15, 10))\n",
    "\n",
    "for i, t in enumerate(times):\n",
    "    plt.subplot(2, 3, i+1)\n",
    "    results.plot_phase_distribution(t)\n",
    "    plt.title(f'Phase Distribution at t = {t}s')\n",
    "    plt.colorbar(label='Volume Fraction')\n",
    "\n",
    "plt.tight_layout()\n",
    "plt.show()"
   ]
  },
  {
   "cell_type": "code",
   "execution_count": null,
   "metadata": {},
   "source": [
    "# Plot pressure field during impact\n",
    "plt.figure(figsize=(15, 5))\n",
    "\n",
    "# Plot pressure field\n",
    "plt.subplot(121)\n",
    "results.plot_pressure(0.02)\n",
    "plt.title('Pressure Field at t = 0.02s')\n",
    "plt.colorbar(label='Pressure (Pa)')\n",
    "\n",
    "# Plot velocity field\n",
    "plt.subplot(122)\n",
    "results.plot_velocity_magnitude(0.02)\n",
    "plt.title('Velocity Field at t = 0.02s')\n",
    "plt.colorbar(label='Velocity (m/s)')\n",
    "\n",
    "plt.tight_layout()\n",
    "plt.show()"
   ]
  },
  {
   "cell_type": "markdown",
   "metadata": {},
   "source": [
    "## Exercises\n",
    "\n",
    "1. Try different bubble sizes and densities\n",
    "2. Experiment with different surface tension values\n",
    "3. Study the effect of contact angle on droplet impact\n",
    "4. Compare different interface tracking methods\n",
    "\n",
    "## Next Steps\n",
    "\n",
    "- Try the chemical reactions example\n",
    "- Explore phase change phenomena\n",
    "- Learn about particle-laden flows"
   ]
  }
 ],
 "metadata": {
  "kernelspec": {
   "display_name": "Python 3.11",
   "language": "python",
   "name": "python3"
  },
  "language_info": {
   "codemirror_mode": {
    "name": "ipython",
    "version": 3
   },
   "file_extension": ".py",
   "mimetype": "text/x-python",
   "name": "python",
   "nbconvert_exporter": "python",
   "pygments_lexer": "ipython3",
   "version": "3.11.0"
  }
 },
 "nbformat": 4,
 "nbformat_minor": 4
} 
