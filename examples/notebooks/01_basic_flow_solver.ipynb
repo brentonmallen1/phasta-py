{
 "cells": [
  {
   "cell_type": "markdown",
   "metadata": {},
   "source": [
    "# Basic Flow Solver Example\n",
    "\n",
    "This notebook demonstrates the basic usage of PHASTA's flow solver for a simple 2D channel flow problem."
   ]
  },
  {
   "cell_type": "code",
   "execution_count": null,
   "metadata": {},
   "source": [
    "import numpy as np\n",
    "import matplotlib.pyplot as plt\n",
    "from phasta import FlowSolver, FlowConfig, Mesh\n",
    "\n",
    "# Set up plotting style\n",
    "plt.style.use('seaborn-v0_8-whitegrid')"
   ]
  },
  {
   "cell_type": "markdown",
   "metadata": {},
   "source": [
    "## Problem Setup\n",
    "\n",
    "We'll simulate a 2D channel flow with the following parameters:\n",
    "- Channel length: 10 units\n",
    "- Channel height: 1 unit\n",
    "- Inlet velocity: 1 unit/s\n",
    "- Reynolds number: 100"
   ]
  },
  {
   "cell_type": "code",
   "execution_count": null,
   "metadata": {},
   "source": [
    "# Create configuration\n",
    "config = FlowConfig()\n",
    "config.domain = {\n",
    "    'length': 10.0,\n",
    "    'height': 1.0,\n",
    "    'mesh_size': 0.1\n",
    "}\n",
    "\n",
    "config.flow = {\n",
    "    'inlet_velocity': 1.0,\n",
    "    'reynolds_number': 100,\n",
    "    'fluid_density': 1.0,\n",
    "    'fluid_viscosity': 0.01\n",
    "}\n",
    "\n",
    "config.boundary_conditions = {\n",
    "    'inlet': 'velocity',\n",
    "    'outlet': 'pressure',\n",
    "    'walls': 'no-slip'\n",
    "}"
   ]
  },
  {
   "cell_type": "markdown",
   "metadata": {},
   "source": [
    "## Mesh Generation\n",
    "\n",
    "Create a structured mesh for the channel flow problem."
   ]
  },
  {
   "cell_type": "code",
   "execution_count": null,
   "metadata": {},
   "source": [
    "# Generate mesh\n",
    "mesh = Mesh.generate_structured_2d(\n",
    "    nx=100,  # Number of points in x-direction\n",
    "    ny=20,   # Number of points in y-direction\n",
    "    length=config.domain['length'],\n",
    "    height=config.domain['height']\n",
    ")\n",
    "\n",
    "# Plot mesh\n",
    "plt.figure(figsize=(12, 4))\n",
    "mesh.plot()\n",
    "plt.title('Channel Flow Mesh')\n",
    "plt.show()"
   ]
  },
  {
   "cell_type": "markdown",
   "metadata": {},
   "source": [
    "## Solver Setup and Execution\n",
    "\n",
    "Create and run the flow solver with the specified configuration."
   ]
  },
  {
   "cell_type": "code",
   "execution_count": null,
   "metadata": {},
   "source": [
    "# Create solver\n",
    "solver = FlowSolver(config, mesh)\n",
    "\n",
    "# Run simulation\n",
    "results = solver.solve(max_iterations=1000, convergence_tolerance=1e-6)\n",
    "\n",
    "# Print convergence information\n",
    "print(f\"Converged: {results.converged}\")\n",
    "print(f\"Final residual: {results.final_residual}\")\n",
    "print(f\"Iterations: {results.iterations}\")"
   ]
  },
  {
   "cell_type": "markdown",
   "metadata": {},
   "source": [
    "## Results Visualization\n",
    "\n",
    "Plot the velocity field and pressure distribution."
   ]
  },
  {
   "cell_type": "code",
   "execution_count": null,
   "metadata": {},
   "source": [
    "# Plot velocity field\n",
    "plt.figure(figsize=(15, 5))\n",
    "\n",
    "plt.subplot(121)\n",
    "results.plot_velocity_magnitude()\n",
    "plt.title('Velocity Magnitude')\n",
    "plt.colorbar(label='Velocity')\n",
    "\n",
    "plt.subplot(122)\n",
    "results.plot_pressure()\n",
    "plt.title('Pressure Distribution')\n",
    "plt.colorbar(label='Pressure')\n",
    "\n",
    "plt.tight_layout()\n",
    "plt.show()"
   ]
  },
  {
   "cell_type": "markdown",
   "metadata": {},
   "source": [
    "## Velocity Profile Analysis\n",
    "\n",
    "Compare the numerical solution with the analytical solution for fully developed flow."
   ]
  },
  {
   "cell_type": "code",
   "execution_count": null,
   "metadata": {},
   "source": [
    "# Get velocity profile at x = L/2\n",
    "x_mid = config.domain['length'] / 2\n",
    "y, u = results.get_velocity_profile(x_mid)\n",
    "\n",
    "# Analytical solution for fully developed flow\n",
    "y_analytical = np.linspace(0, config.domain['height'], 100)\n",
    "u_analytical = 6 * config.flow['inlet_velocity'] * (y_analytical/config.domain['height']) * \\\n",
    "               (1 - y_analytical/config.domain['height'])\n",
    "\n",
    "# Plot comparison\n",
    "plt.figure(figsize=(8, 6))\n",
    "plt.plot(u, y, 'b-', label='Numerical')\n",
    "plt.plot(u_analytical, y_analytical, 'r--', label='Analytical')\n",
    "plt.xlabel('Velocity')\n",
    "plt.ylabel('y')\n",
    "plt.title('Velocity Profile at x = L/2')\n",
    "plt.legend()\n",
    "plt.grid(True)\n",
    "plt.show()"
   ]
  },
  {
   "cell_type": "markdown",
   "metadata": {},
   "source": [
    "## Exercises\n",
    "\n",
    "1. Try different Reynolds numbers and observe the flow behavior\n",
    "2. Modify the channel geometry and analyze the results\n",
    "3. Add a heat source and observe the temperature distribution\n",
    "4. Implement different boundary conditions\n",
    "\n",
    "## Next Steps\n",
    "\n",
    "- Try the turbulence modeling example\n",
    "- Explore heat transfer capabilities\n",
    "- Learn about multi-phase flow simulation"
   ]
  }
 ],
 "metadata": {
  "kernelspec": {
   "display_name": "Python 3.11",
   "language": "python",
   "name": "python3"
  },
  "language_info": {
   "codemirror_mode": {
    "name": "ipython",
    "version": 3
   },
   "file_extension": ".py",
   "mimetype": "text/x-python",
   "name": "python",
   "nbconvert_exporter": "python",
   "pygments_lexer": "ipython3",
   "version": "3.11.0"
  }
 },
 "nbformat": 4,
 "nbformat_minor": 4
} 
