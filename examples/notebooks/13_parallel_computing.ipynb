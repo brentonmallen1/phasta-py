{
 "cells": [
  {
   "cell_type": "markdown",
   "metadata": {},
   "source": [
    "# Parallel Computing in PHASTA\n",
    "\n",
    "This notebook demonstrates how to use parallel computing features in PHASTA, including:\n",
    "- MPI parallelization\n",
    "- Domain decomposition\n",
    "- Load balancing\n",
    "- Performance scaling analysis"
   ]
  },
  {
   "cell_type": "code",
   "execution_count": null,
   "metadata": {},
   "source": [
    "import numpy as np\n",
    "import matplotlib.pyplot as plt\n",
    "from phasta import FlowSolver, FlowConfig, Mesh, ParallelConfig\n",
    "import time\n",
    "\n",
    "# Set up plotting style\n",
    "plt.style.use('seaborn-v0_8-whitegrid')"
   ]
  },
  {
   "cell_type": "markdown",
   "metadata": {},
   "source": [
    "## MPI Configuration\n",
    "\n",
    "First, let's set up the parallel computing configuration."
   ]
  },
  {
   "cell_type": "code",
   "execution_count": null,
   "metadata": {},
   "source": [
    "# Create parallel configuration\n",
    "parallel_config = ParallelConfig()\n",
    "\n",
    "# Configure MPI settings\n",
    "parallel_config.mpi = {\n",
    "    'use_mpi': True,\n",
    "    'num_processes': 4,  # Number of MPI processes\n",
    "    'threads_per_process': 2  # OpenMP threads per process\n",
    "}\n",
    "\n",
    "# Configure domain decomposition\n",
    "parallel_config.decomposition = {\n",
    "    'method': 'metis',  # Use METIS for partitioning\n",
    "    'balance_criterion': 'elements',  # Balance by number of elements\n",
    "    'overlap_layers': 2  # Number of overlap layers between domains\n",
    "}\n",
    "\n",
    "# Configure communication\n",
    "parallel_config.communication = {\n",
    "    'use_nonblocking': True,  # Use non-blocking communication\n",
    "    'buffer_size': 1024,  # Communication buffer size\n",
    "    'use_shared_memory': True  # Use shared memory when possible\n",
    "}"
   ]
  },
  {
   "cell_type": "markdown",
   "metadata": {},
   "source": [
    "## Domain Decomposition\n",
    "\n",
    "Let's examine how the domain is decomposed for parallel processing."
   ]
  },
  {
   "cell_type": "code",
   "execution_count": null,
   "metadata": {},
   "source": [
    "# Create base configuration\n",
    "config = FlowConfig()\n",
    "config.domain = {\n",
    "    'width': 1.0,\n",
    "    'height': 1.0,\n",
    "    'depth': 1.0,\n",
    "    'mesh_size': 0.01\n",
    "}\n",
    "\n",
    "# Create mesh\n",
    "mesh = Mesh.generate_structured_3d(\n",
    "    width=config.domain['width'],\n",
    "    height=config.domain['height'],\n",
    "    depth=config.domain['depth'],\n",
    "    nx=200,\n",
    "    ny=200,\n",
    "    nz=200\n",
    ")\n",
    "\n",
    "# Create solver with parallel configuration\n",
    "solver = FlowSolver(config, mesh, parallel_config=parallel_config)\n",
    "\n",
    "# Get domain decomposition information\n",
    "decomp_info = solver.get_decomposition_info()\n",
    "\n",
    "# Plot domain decomposition\n",
    "plt.figure(figsize=(12, 4))\n",
    "for i in range(3):\n",
    "    plt.subplot(1, 3, i+1)\n",
    "    solver.plot_domain_decomposition(plane=i)\n",
    "    plt.title(f'Domain Decomposition (Plane {i})')\n",
    "plt.tight_layout()\n",
    "plt.show()"
   ]
  },
  {
   "cell_type": "markdown",
   "metadata": {},
   "source": [
    "## Performance Scaling\n",
    "\n",
    "Let's analyze how performance scales with the number of processes."
   ]
  },
  {
   "cell_type": "code",
   "execution_count": null,
   "metadata": {},
   "source": [
    "# Test different process counts\n",
    "process_counts = [1, 2, 4, 8, 16]\n",
    "times = []\n",
    "\n",
    "for num_processes in process_counts:\n",
    "    parallel_config.mpi['num_processes'] = num_processes\n",
    "    solver = FlowSolver(config, mesh, parallel_config=parallel_config)\n",
    "    \n",
    "    start_time = time.time()\n",
    "    solver.solve()\n",
    "    times.append(time.time() - start_time)\n",
    "\n",
    "# Plot scaling results\n",
    "plt.figure(figsize=(10, 6))\n",
    "plt.plot(process_counts, times, 'o-', label='Measured')\n",
    "plt.plot(process_counts, [times[0]/n for n in process_counts], '--', label='Ideal')\n",
    "plt.xlabel('Number of Processes')\n",
    "plt.ylabel('Execution Time (s)')\n",
    "plt.title('Parallel Scaling')\n",
    "plt.legend()\n",
    "plt.grid(True)\n",
    "plt.show()"
   ]
  },
  {
   "cell_type": "markdown",
   "metadata": {},
   "source": [
    "## Load Balancing\n",
    "\n",
    "Let's examine the load balancing across processes."
   ]
  },
  {
   "cell_type": "code",
   "execution_count": null,
   "metadata": {},
   "source": [
    "# Get load balancing statistics\n",
    "load_stats = solver.get_load_balancing_stats()\n",
    "\n",
    "plt.figure(figsize=(12, 5))\n",
    "\n",
    "# Plot element distribution\n",
    "plt.subplot(121)\n",
    "plt.bar(range(len(load_stats['elements'])), load_stats['elements'])\n",
    "plt.xlabel('Process ID')\n",
    "plt.ylabel('Number of Elements')\n",
    "plt.title('Element Distribution')\n",
    "\n",
    "# Plot computation time\n",
    "plt.subplot(122)\n",
    "plt.bar(range(len(load_stats['compute_time'])), load_stats['compute_time'])\n",
    "plt.xlabel('Process ID')\n",
    "plt.ylabel('Computation Time (s)')\n",
    "plt.title('Computation Time Distribution')\n",
    "\n",
    "plt.tight_layout()\n",
    "plt.show()"
   ]
  },
  {
   "cell_type": "markdown",
   "metadata": {},
   "source": [
    "## Communication Analysis\n",
    "\n",
    "Let's analyze the communication patterns between processes."
   ]
  },
  {
   "cell_type": "code",
   "execution_count": null,
   "metadata": {},
   "source": [
    "# Get communication statistics\n",
    "comm_stats = solver.get_communication_stats()\n",
    "\n",
    "plt.figure(figsize=(12, 5))\n",
    "\n",
    "# Plot message sizes\n",
    "plt.subplot(121)\n",
    "plt.plot(comm_stats['time'], comm_stats['message_sizes'])\n",
    "plt.xlabel('Time (s)')\n",
    "plt.ylabel('Message Size (bytes)')\n",
    "plt.title('Message Sizes')\n",
    "\n",
    "# Plot communication time\n",
    "plt.subplot(122)\n",
    "plt.plot(comm_stats['time'], comm_stats['comm_time'])\n",
    "plt.xlabel('Time (s)')\n",
    "plt.ylabel('Communication Time (s)')\n",
    "plt.title('Communication Time')\n",
    "\n",
    "plt.tight_layout()\n",
    "plt.show()"
   ]
  },
  {
   "cell_type": "markdown",
   "metadata": {},
   "source": [
    "## Best Practices\n",
    "\n",
    "Here are some best practices for parallel computing in PHASTA:\n",
    "\n",
    "1. Domain Decomposition:\n",
    "   - Choose appropriate decomposition method\n",
    "   - Balance workload across processes\n",
    "   - Minimize communication overhead\n",
    "\n",
    "2. Process Configuration:\n",
    "   - Match process count to available cores\n",
    "   - Consider memory requirements\n",
    "   - Use appropriate thread count\n",
    "\n",
    "3. Communication:\n",
    "   - Use non-blocking communication when possible\n",
    "   - Optimize buffer sizes\n",
    "   - Minimize data transfer\n",
    "\n",
    "4. Performance Monitoring:\n",
    "   - Monitor load balancing\n",
    "   - Track communication patterns\n",
    "   - Analyze scaling behavior"
   ]
  },
  {
   "cell_type": "markdown",
   "metadata": {},
   "source": [
    "## Exercises\n",
    "\n",
    "1. Try different domain decomposition methods\n",
    "2. Experiment with different process counts\n",
    "3. Test different load balancing criteria\n",
    "4. Analyze communication patterns\n",
    "\n",
    "## Next Steps\n",
    "\n",
    "- Try the GPU acceleration example\n",
    "- Explore advanced visualization techniques\n",
    "- Learn about basic mesh generation"
   ]
  }
 ],
 "metadata": {
  "kernelspec": {
   "display_name": "Python 3.11",
   "language": "python",
   "name": "python3"
  },
  "language_info": {
   "codemirror_mode": {
    "name": "ipython",
    "version": 3
   },
   "file_extension": ".py",
   "mimetype": "text/x-python",
   "name": "python",
   "nbconvert_exporter": "python",
   "pygments_lexer": "ipython3",
   "version": "3.11.0"
  }
 },
 "nbformat": 4,
 "nbformat_minor": 4
} 
