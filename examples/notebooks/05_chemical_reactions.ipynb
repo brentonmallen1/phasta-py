{
 "cells": [
  {
   "cell_type": "markdown",
   "metadata": {},
   "source": [
    "# Chemical Reactions Example\n",
    "\n",
    "This notebook demonstrates chemical reaction modeling in PHASTA, including combustion, mixing, and reaction kinetics."
   ]
  },
  {
   "cell_type": "code",
   "execution_count": null,
   "metadata": {},
   "source": [
    "import numpy as np\n",
    "import matplotlib.pyplot as plt\n",
    "from phasta import FlowSolver, FlowConfig, Mesh, ChemistryConfig\n",
    "\n",
    "# Set up plotting style\n",
    "plt.style.use('seaborn-v0_8-whitegrid')"
   ]
  },
  {
   "cell_type": "markdown",
   "metadata": {},
   "source": [
    "## Problem Setup\n",
    "\n",
    "We'll simulate a premixed flame with the following parameters:\n",
    "- Domain size: 0.1m × 0.02m\n",
    "- Fuel: Methane (CH₄)\n",
    "- Oxidizer: Air (O₂ + N₂)\n",
    "- Equivalence ratio: 1.0\n",
    "- Inlet temperature: 300K\n",
    "- Inlet velocity: 0.5 m/s"
   ]
  },
  {
   "cell_type": "code",
   "execution_count": null,
   "metadata": {},
   "source": [
    "# Create base configuration\n",
    "config = FlowConfig()\n",
    "config.domain = {\n",
    "    'width': 0.1,\n",
    "    'height': 0.02,\n",
    "    'mesh_size': 0.0002\n",
    "}\n",
    "\n",
    "config.flow = {\n",
    "    'inlet_velocity': 0.5,\n",
    "    'inlet_temperature': 300.0,\n",
    "    'time_step': 1e-6,\n",
    "    'max_time': 0.01\n",
    "}\n",
    "\n",
    "config.boundary_conditions = {\n",
    "    'inlet': 'velocity',\n",
    "    'outlet': 'outflow',\n",
    "    'walls': 'adiabatic'\n",
    "}"
   ]
  },
  {
   "cell_type": "markdown",
   "metadata": {},
   "source": [
    "## Premixed Flame Simulation\n",
    "\n",
    "Let's simulate a premixed methane-air flame using detailed chemistry."
   ]
  },
  {
   "cell_type": "code",
   "execution_count": null,
   "metadata": {},
   "source": [
    "# Create mesh\n",
    "mesh = Mesh.generate_rectangle_2d(\n",
    "    width=config.domain['width'],\n",
    "    height=config.domain['height'],\n",
    "    nx=500,\n",
    "    ny=100\n",
    ")\n",
    "\n",
    "# Plot mesh\n",
    "plt.figure(figsize=(10, 2))\n",
    "mesh.plot()\n",
    "plt.title('Premixed Flame Mesh')\n",
    "plt.show()"
   ]
  },
  {
   "cell_type": "code",
   "execution_count": null,
   "metadata": {},
   "source": [
    "# Configure chemistry\n",
    "chemistry_config = ChemistryConfig()\n",
    "chemistry_config.mechanism = 'gri30'\n",
    "chemistry_config.species = [\n",
    "    'CH4', 'O2', 'N2', 'CO2', 'H2O', 'CO', 'H2',\n",
    "    'OH', 'H', 'O', 'HO2', 'H2O2', 'CH3', 'CH2O'\n",
    "]\n",
    "chemistry_config.reactions = 'all'\n",
    "chemistry_config.transport = 'multicomponent'\n",
    "chemistry_config.radiation = 'optically_thin'\n",
    "\n",
    "# Set initial conditions\n",
    "chemistry_config.initial_conditions = {\n",
    "    'temperature': 300.0,\n",
    "    'pressure': 101325.0,\n",
    "    'equivalence_ratio': 1.0,\n",
    "    'fuel': 'CH4',\n",
    "    'oxidizer': 'O2'\n",
    "}\n",
    "\n",
    "# Create and run solver\n",
    "solver = FlowSolver(config, mesh, chemistry_config=chemistry_config)\n",
    "results = solver.solve()\n",
    "\n",
    "print(\"\\nPremixed Flame Results:\")\n",
    "print(f\"Simulation completed: {results.completed}\")\n",
    "print(f\"Final time: {results.final_time}\")\n",
    "print(f\"Number of time steps: {results.time_steps}\")"
   ]
  },
  {
   "cell_type": "markdown",
   "metadata": {},
   "source": [
    "## Visualize Results\n",
    "\n",
    "Plot temperature, species mass fractions, and reaction rates."
   ]
  },
  {
   "cell_type": "code",
   "execution_count": null,
   "metadata": {},
   "source": [
    "plt.figure(figsize=(15, 5))\n",
    "\n",
    "# Plot temperature field\n",
    "plt.subplot(131)\n",
    "results.plot_temperature()\n",
    "plt.title('Temperature Field')\n",
    "plt.colorbar(label='Temperature (K)')\n",
    "\n",
    "# Plot fuel mass fraction\n",
    "plt.subplot(132)\n",
    "results.plot_species_mass_fraction('CH4')\n",
    "plt.title('CH₄ Mass Fraction')\n",
    "plt.colorbar(label='Mass Fraction')\n",
    "\n",
    "# Plot OH mass fraction\n",
    "plt.subplot(133)\n",
    "results.plot_species_mass_fraction('OH')\n",
    "plt.title('OH Mass Fraction')\n",
    "plt.colorbar(label='Mass Fraction')\n",
    "\n",
    "plt.tight_layout()\n",
    "plt.show()"
   ]
  },
  {
   "cell_type": "code",
   "execution_count": null,
   "metadata": {},
   "source": [
    "# Plot reaction rates and heat release\n",
    "plt.figure(figsize=(15, 5))\n",
    "\n",
    "# Plot heat release rate\n",
    "plt.subplot(131)\n",
    "results.plot_heat_release_rate()\n",
    "plt.title('Heat Release Rate')\n",
    "plt.colorbar(label='Heat Release (W/m³)')\n",
    "\n",
    "# Plot CH₄ consumption rate\n",
    "plt.subplot(132)\n",
    "results.plot_reaction_rate('CH4')\n",
    "plt.title('CH₄ Consumption Rate')\n",
    "plt.colorbar(label='Rate (mol/m³/s)')\n",
    "\n",
    "# Plot OH production rate\n",
    "plt.subplot(133)\n",
    "results.plot_reaction_rate('OH')\n",
    "plt.title('OH Production Rate')\n",
    "plt.colorbar(label='Rate (mol/m³/s)')\n",
    "\n",
    "plt.tight_layout()\n",
    "plt.show()"
   ]
  },
  {
   "cell_type": "markdown",
   "metadata": {},
   "source": [
    "## Non-Premixed Flame Simulation\n",
    "\n",
    "Now let's simulate a non-premixed flame with separate fuel and oxidizer streams."
   ]
  },
  {
   "cell_type": "code",
   "execution_count": null,
   "metadata": {},
   "source": [
    "# Create mesh for non-premixed flame\n",
    "mesh = Mesh.generate_rectangle_2d(\n",
    "    width=0.1,\n",
    "    height=0.02,\n",
    "    nx=500,\n",
    "    ny=100\n",
    ")\n",
    "\n",
    "# Plot mesh\n",
    "plt.figure(figsize=(10, 2))\n",
    "mesh.plot()\n",
    "plt.title('Non-Premixed Flame Mesh')\n",
    "plt.show()"
   ]
  },
  {
   "cell_type": "code",
   "execution_count": null,
   "metadata": {},
   "source": [
    "# Configure non-premixed chemistry\n",
    "chemistry_config = ChemistryConfig()\n",
    "chemistry_config.mechanism = 'gri30'\n",
    "chemistry_config.species = [\n",
    "    'CH4', 'O2', 'N2', 'CO2', 'H2O', 'CO', 'H2',\n",
    "    'OH', 'H', 'O', 'HO2', 'H2O2', 'CH3', 'CH2O'\n",
    "]\n",
    "chemistry_config.reactions = 'all'\n",
    "chemistry_config.transport = 'multicomponent'\n",
    "chemistry_config.radiation = 'optically_thin'\n",
    "chemistry_config.mixture_fraction = True\n",
    "\n",
    "# Set initial conditions\n",
    "chemistry_config.initial_conditions = {\n",
    "    'temperature': 300.0,\n",
    "    'pressure': 101325.0,\n",
    "    'fuel_stream': {\n",
    "        'species': 'CH4',\n",
    "        'temperature': 300.0,\n",
    "        'velocity': 0.5\n",
    "    },\n",
    "    'oxidizer_stream': {\n",
    "        'species': 'O2',\n",
    "        'temperature': 300.0,\n",
    "        'velocity': 0.5\n",
    "    }\n",
    "}\n",
    "\n",
    "# Create and run solver\n",
    "solver = FlowSolver(config, mesh, chemistry_config=chemistry_config)\n",
    "results = solver.solve()\n",
    "\n",
    "print(\"\\nNon-Premixed Flame Results:\")\n",
    "print(f\"Simulation completed: {results.completed}\")\n",
    "print(f\"Final time: {results.final_time}\")\n",
    "print(f\"Number of time steps: {results.time_steps}\")"
   ]
  },
  {
   "cell_type": "markdown",
   "metadata": {},
   "source": [
    "## Visualize Non-Premixed Results\n",
    "\n",
    "Plot mixture fraction, temperature, and species mass fractions."
   ]
  },
  {
   "cell_type": "code",
   "execution_count": null,
   "metadata": {},
   "source": [
    "plt.figure(figsize=(15, 5))\n",
    "\n",
    "# Plot mixture fraction\n",
    "plt.subplot(131)\n",
    "results.plot_mixture_fraction()\n",
    "plt.title('Mixture Fraction')\n",
    "plt.colorbar(label='Mixture Fraction')\n",
    "\n",
    "# Plot temperature field\n",
    "plt.subplot(132)\n",
    "results.plot_temperature()\n",
    "plt.title('Temperature Field')\n",
    "plt.colorbar(label='Temperature (K)')\n",
    "\n",
    "# Plot OH mass fraction\n",
    "plt.subplot(133)\n",
    "results.plot_species_mass_fraction('OH')\n",
    "plt.title('OH Mass Fraction')\n",
    "plt.colorbar(label='Mass Fraction')\n",
    "\n",
    "plt.tight_layout()\n",
    "plt.show()"
   ]
  },
  {
   "cell_type": "code",
   "execution_count": null,
   "metadata": {},
   "source": [
    "# Plot reaction rates and heat release\n",
    "plt.figure(figsize=(15, 5))\n",
    "\n",
    "# Plot heat release rate\n",
    "plt.subplot(131)\n",
    "results.plot_heat_release_rate()\n",
    "plt.title('Heat Release Rate')\n",
    "plt.colorbar(label='Heat Release (W/m³)')\n",
    "\n",
    "# Plot CH₄ consumption rate\n",
    "plt.subplot(132)\n",
    "results.plot_reaction_rate('CH4')\n",
    "plt.title('CH₄ Consumption Rate')\n",
    "plt.colorbar(label='Rate (mol/m³/s)')\n",
    "\n",
    "# Plot OH production rate\n",
    "plt.subplot(133)\n",
    "results.plot_reaction_rate('OH')\n",
    "plt.title('OH Production Rate')\n",
    "plt.colorbar(label='Rate (mol/m³/s)')\n",
    "\n",
    "plt.tight_layout()\n",
    "plt.show()"
   ]
  },
  {
   "cell_type": "markdown",
   "metadata": {},
   "source": [
    "## Exercises\n",
    "\n",
    "1. Try different equivalence ratios in premixed flames\n",
    "2. Experiment with different fuel-oxidizer combinations\n",
    "3. Study the effect of pressure on flame speed\n",
    "4. Compare different chemical mechanisms\n",
    "\n",
    "## Next Steps\n",
    "\n",
    "- Try the particle-laden flow example\n",
    "- Explore phase change phenomena\n",
    "- Learn about turbulent combustion"
   ]
  }
 ],
 "metadata": {
  "kernelspec": {
   "display_name": "Python 3.11",
   "language": "python",
   "name": "python3"
  },
  "language_info": {
   "codemirror_mode": {
    "name": "ipython",
    "version": 3
   },
   "file_extension": ".py",
   "mimetype": "text/x-python",
   "name": "python",
   "nbconvert_exporter": "python",
   "pygments_lexer": "ipython3",
   "version": "3.11.0"
  }
 },
 "nbformat": 4,
 "nbformat_minor": 4
} 
