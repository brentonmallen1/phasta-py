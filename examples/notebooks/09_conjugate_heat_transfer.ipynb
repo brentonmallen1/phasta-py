{
 "cells": [
  {
   "cell_type": "markdown",
   "metadata": {},
   "source": [
    "# Conjugate Heat Transfer Example\n",
    "\n",
    "This notebook demonstrates conjugate heat transfer simulations in PHASTA, including fluid-solid interactions and heat transfer across interfaces."
   ]
  },
  {
   "cell_type": "code",
   "execution_count": null,
   "metadata": {},
   "source": [
    "import numpy as np\n",
    "import matplotlib.pyplot as plt\n",
    "from phasta import FlowSolver, FlowConfig, Mesh, ConjugateHeatTransferConfig\n",
    "\n",
    "# Set up plotting style\n",
    "plt.style.use('seaborn-v0_8-whitegrid')"
   ]
  },
  {
   "cell_type": "markdown",
   "metadata": {},
   "source": [
    "## Problem Setup\n",
    "\n",
    "We'll simulate heat transfer in a heat exchanger with the following parameters:\n",
    "- Channel dimensions: 0.1m × 0.02m × 0.1m\n",
    "- Fin dimensions: 0.01m × 0.01m × 0.1m\n",
    "- Hot fluid inlet temperature: 353K\n",
    "- Cold fluid inlet temperature: 293K\n",
    "- Hot fluid velocity: 0.1 m/s\n",
    "- Cold fluid velocity: 0.1 m/s"
   ]
  },
  {
   "cell_type": "code",
   "execution_count": null,
   "metadata": {},
   "source": [
    "# Create base configuration\n",
    "config = FlowConfig()\n",
    "config.domain = {\n",
    "    'width': 0.1,\n",
    "    'height': 0.02,\n",
    "    'depth': 0.1,\n",
    "    'mesh_size': 0.001\n",
    "}\n",
    "\n",
    "config.flow = {\n",
    "    'time_step': 0.01,\n",
    "    'max_time': 100.0\n",
    "}\n",
    "\n",
    "config.boundary_conditions = {\n",
    "    'hot_inlet': 'velocity',\n",
    "    'hot_outlet': 'outflow',\n",
    "    'cold_inlet': 'velocity',\n",
    "    'cold_outlet': 'outflow',\n",
    "    'walls': 'no-slip'\n",
    "}"
   ]
  },
  {
   "cell_type": "markdown",
   "metadata": {},
   "source": [
    "## Heat Exchanger Simulation\n",
    "\n",
    "Let's simulate heat transfer in a finned heat exchanger."
   ]
  },
  {
   "cell_type": "code",
   "execution_count": null,
   "metadata": {},
   "source": [
    "# Create mesh\n",
    "mesh = Mesh.generate_heat_exchanger_3d(\n",
    "    width=config.domain['width'],\n",
    "    height=config.domain['height'],\n",
    "    depth=config.domain['depth'],\n",
    "    fin_width=0.01,\n",
    "    fin_height=0.01,\n",
    "    nx=100,\n",
    "    ny=20,\n",
    "    nz=100\n",
    ")\n",
    "\n",
    "# Plot mesh\n",
    "plt.figure(figsize=(12, 4))\n",
    "mesh.plot_slice('y', 0.5)\n",
    "plt.title('Heat Exchanger Mesh (y-slice)')\n",
    "plt.show()"
   ]
  },
  {
   "cell_type": "code",
   "execution_count": null,
   "metadata": {},
   "source": [
    "# Configure conjugate heat transfer\n",
    "cht_config = ConjugateHeatTransferConfig()\n",
    "cht_config.fluid_properties = {\n",
    "    'hot_fluid': {\n",
    "        'density': 1000.0,\n",
    "        'viscosity': 0.001,\n",
    "        'thermal_conductivity': 0.6,\n",
    "        'specific_heat': 4200.0\n",
    "    },\n",
    "    'cold_fluid': {\n",
    "        'density': 1000.0,\n",
    "        'viscosity': 0.001,\n",
    "        'thermal_conductivity': 0.6,\n",
    "        'specific_heat': 4200.0\n",
    "    }\n",
    "}\n",
    "cht_config.solid_properties = {\n",
    "    'density': 2700.0,\n",
    "    'thermal_conductivity': 237.0,\n",
    "    'specific_heat': 900.0\n",
    "}\n",
    "cht_config.boundary_conditions = {\n",
    "    'hot_inlet': {'type': 'temperature', 'value': 353.0},\n",
    "    'cold_inlet': {'type': 'temperature', 'value': 293.0},\n",
    "    'hot_outlet': {'type': 'outflow'},\n",
    "    'cold_outlet': {'type': 'outflow'},\n",
    "    'outer_walls': {'type': 'adiabatic'}\n",
    "}\n",
    "cht_config.interface = {\n",
    "    'method': 'coupled',\n",
    "    'tolerance': 1e-6,\n",
    "    'max_iterations': 100\n",
    "}\n",
    "\n",
    "# Create and run solver\n",
    "solver = FlowSolver(config, mesh, conjugate_heat_transfer_config=cht_config)\n",
    "results = solver.solve()\n",
    "\n",
    "print(\"\\nHeat Exchanger Results:\")\n",
    "print(f\"Simulation completed: {results.completed}\")\n",
    "print(f\"Final time: {results.final_time}\")\n",
    "print(f\"Number of time steps: {results.time_steps}\")"
   ]
  },
  {
   "cell_type": "markdown",
   "metadata": {},
   "source": [
    "## Visualize Results\n",
    "\n",
    "Plot temperature fields, heat flux, and performance metrics."
   ]
  },
  {
   "cell_type": "code",
   "execution_count": null,
   "metadata": {},
   "source": [
    "# Plot temperature fields\n",
    "plt.figure(figsize=(15, 5))\n",
    "\n",
    "# Plot hot fluid temperature\n",
    "plt.subplot(131)\n",
    "results.plot_fluid_temperature('hot')\n",
    "plt.title('Hot Fluid Temperature')\n",
    "plt.colorbar(label='Temperature (K)')\n",
    "\n",
    "# Plot cold fluid temperature\n",
    "plt.subplot(132)\n",
    "results.plot_fluid_temperature('cold')\n",
    "plt.title('Cold Fluid Temperature')\n",
    "plt.colorbar(label='Temperature (K)')\n",
    "\n",
    "# Plot solid temperature\n",
    "plt.subplot(133)\n",
    "results.plot_solid_temperature()\n",
    "plt.title('Solid Temperature')\n",
    "plt.colorbar(label='Temperature (K)')\n",
    "\n",
    "plt.tight_layout()\n",
    "plt.show()"
   ]
  },
  {
   "cell_type": "code",
   "execution_count": null,
   "metadata": {},
   "source": [
    "# Plot heat transfer metrics\n",
    "plt.figure(figsize=(15, 5))\n",
    "\n",
    "# Plot heat flux\n",
    "plt.subplot(131)\n",
    "results.plot_heat_flux()\n",
    "plt.title('Heat Flux')\n",
    "plt.colorbar(label='Heat Flux (W/m²)')\n",
    "\n",
    "# Plot Nusselt number\n",
    "plt.subplot(132)\n",
    "results.plot_nusselt_number()\n",
    "plt.title('Nusselt Number')\n",
    "plt.colorbar(label='Nu')\n",
    "\n",
    "# Plot effectiveness\n",
    "plt.subplot(133)\n",
    "results.plot_effectiveness()\n",
    "plt.title('Heat Exchanger Effectiveness')\n",
    "plt.colorbar(label='Effectiveness')\n",
    "\n",
    "plt.tight_layout()\n",
    "plt.show()"
   ]
  },
  {
   "cell_type": "markdown",
   "metadata": {},
   "source": [
    "## Performance Analysis\n",
    "\n",
    "Analyze heat exchanger performance and efficiency."
   ]
  },
  {
   "cell_type": "code",
   "execution_count": null,
   "metadata": {},
   "source": [
    "# Plot performance metrics\n",
    "plt.figure(figsize=(15, 5))\n",
    "\n",
    "# Plot temperature profiles\n",
    "plt.subplot(131)\n",
    "results.plot_temperature_profiles()\n",
    "plt.title('Temperature Profiles')\n",
    "plt.xlabel('Position (m)')\n",
    "plt.ylabel('Temperature (K)')\n",
    "plt.grid(True)\n",
    "\n",
    "# Plot heat transfer rate\n",
    "plt.subplot(132)\n",
    "results.plot_heat_transfer_rate()\n",
    "plt.title('Heat Transfer Rate')\n",
    "plt.xlabel('Time (s)')\n",
    "plt.ylabel('Heat Transfer (W)')\n",
    "plt.grid(True)\n",
    "\n",
    "# Plot pressure drop\n",
    "plt.subplot(133)\n",
    "results.plot_pressure_drop()\n",
    "plt.title('Pressure Drop')\n",
    "plt.xlabel('Time (s)')\n",
    "plt.ylabel('Pressure Drop (Pa)')\n",
    "plt.grid(True)\n",
    "\n",
    "plt.tight_layout()\n",
    "plt.show()"
   ]
  },
  {
   "cell_type": "markdown",
   "metadata": {},
   "source": [
    "## Parametric Study\n",
    "\n",
    "Study the effect of different parameters on heat exchanger performance."
   ]
  },
  {
   "cell_type": "code",
   "execution_count": null,
   "metadata": {},
   "source": [
    "# Plot parametric study results\n",
    "plt.figure(figsize=(15, 5))\n",
    "\n",
    "# Plot effect of fin spacing\n",
    "plt.subplot(131)\n",
    "results.plot_parametric_study('fin_spacing')\n",
    "plt.title('Effect of Fin Spacing')\n",
    "plt.xlabel('Fin Spacing (m)')\n",
    "plt.ylabel('Effectiveness')\n",
    "plt.grid(True)\n",
    "\n",
    "# Plot effect of flow rate\n",
    "plt.subplot(132)\n",
    "results.plot_parametric_study('flow_rate')\n",
    "plt.title('Effect of Flow Rate')\n",
    "plt.xlabel('Flow Rate (m³/s)')\n",
    "plt.ylabel('Effectiveness')\n",
    "plt.grid(True)\n",
    "\n",
    "# Plot effect of inlet temperature\n",
    "plt.subplot(133)\n",
    "results.plot_parametric_study('inlet_temperature')\n",
    "plt.title('Effect of Inlet Temperature')\n",
    "plt.xlabel('Temperature Difference (K)')\n",
    "plt.ylabel('Effectiveness')\n",
    "plt.grid(True)\n",
    "\n",
    "plt.tight_layout()\n",
    "plt.show()"
   ]
  },
  {
   "cell_type": "markdown",
   "metadata": {},
   "source": [
    "## Exercises\n",
    "\n",
    "1. Try different fin geometries\n",
    "2. Experiment with different materials\n",
    "3. Study the effect of flow arrangement\n",
    "4. Compare different interface coupling methods\n",
    "\n",
    "## Next Steps\n",
    "\n",
    "- Try the multi-phase flow example\n",
    "- Explore chemical reactions\n",
    "- Learn about turbulent flows"
   ]
  }
 ],
 "metadata": {
  "kernelspec": {
   "display_name": "Python 3.11",
   "language": "python",
   "name": "python3"
  },
  "language_info": {
   "codemirror_mode": {
    "name": "ipython",
    "version": 3
   },
   "file_extension": ".py",
   "mimetype": "text/x-python",
   "name": "python",
   "nbconvert_exporter": "python",
   "pygments_lexer": "ipython3",
   "version": "3.11.0"
  }
 },
 "nbformat": 4,
 "nbformat_minor": 4
} 
