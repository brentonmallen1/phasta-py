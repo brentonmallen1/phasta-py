{
 "cells": [
  {
   "cell_type": "markdown",
   "metadata": {},
   "source": [
    "# Turbulent Flow Example\n",
    "\n",
    "This notebook demonstrates turbulent flow simulations in PHASTA, including RANS, LES, and DNS approaches."
   ]
  },
  {
   "cell_type": "code",
   "execution_count": null,
   "metadata": {},
   "source": [
    "import numpy as np\n",
    "import matplotlib.pyplot as plt\n",
    "from phasta import FlowSolver, FlowConfig, Mesh, TurbulenceConfig\n",
    "\n",
    "# Set up plotting style\n",
    "plt.style.use('seaborn-v0_8-whitegrid')"
   ]
  },
  {
   "cell_type": "markdown",
   "metadata": {},
   "source": [
    "## Problem Setup\n",
    "\n",
    "We'll simulate turbulent flow in a channel with the following parameters:\n",
    "- Channel dimensions: 2π × 2 × π\n",
    "- Reynolds number: 180\n",
    "- Wall shear stress: 1.0\n",
    "- Grid resolution: 128 × 129 × 128"
   ]
  },
  {
   "cell_type": "code",
   "execution_count": null,
   "metadata": {},
   "source": [
    "# Create base configuration\n",
    "config = FlowConfig()\n",
    "config.domain = {\n",
    "    'length': 2 * np.pi,\n",
    "    'height': 2.0,\n",
    "    'width': np.pi,\n",
    "    'mesh_size': 0.05\n",
    "}\n",
    "\n",
    "config.flow = {\n",
    "    'reynolds_number': 180,\n",
    "    'wall_shear_stress': 1.0,\n",
    "    'fluid_density': 1.0,\n",
    "    'fluid_viscosity': 1.0/180,\n",
    "    'time_step': 0.001,\n",
    "    'max_time': 10.0\n",
    "}\n",
    "\n",
    "config.boundary_conditions = {\n",
    "    'x_periodic': True,\n",
    "    'y_walls': 'no-slip',\n",
    "    'z_periodic': True\n",
    "}"
   ]
  },
  {
   "cell_type": "markdown",
   "metadata": {},
   "source": [
    "## Direct Numerical Simulation (DNS)\n",
    "\n",
    "Let's perform a DNS of turbulent channel flow."
   ]
  },
  {
   "cell_type": "code",
   "execution_count": null,
   "metadata": {},
   "source": [
    "# Create mesh\n",
    "mesh = Mesh.generate_channel_3d(\n",
    "    length=config.domain['length'],\n",
    "    height=config.domain['height'],\n",
    "    width=config.domain['width'],\n",
    "    nx=128,\n",
    "    ny=129,\n",
    "    nz=128\n",
    ")\n",
    "\n",
    "# Plot mesh\n",
    "plt.figure(figsize=(12, 4))\n",
    "mesh.plot_slice('y', 0.5)\n",
    "plt.title('Channel Mesh (y-slice)')\n",
    "plt.show()"
   ]
  },
  {
   "cell_type": "code",
   "execution_count": null,
   "metadata": {},
   "source": [
    "# Configure DNS\n",
    "turbulence_config = TurbulenceConfig()\n",
    "turbulence_config.method = 'dns'\n",
    "turbulence_config.initial_conditions = {\n",
    "    'velocity': [1.0, 0.0, 0.0],\n",
    "    'perturbation': 0.1\n",
    "}\n",
    "\n",
    "# Create and run solver\n",
    "solver = FlowSolver(config, mesh, turbulence_config=turbulence_config)\n",
    "results = solver.solve()\n",
    "\n",
    "print(\"\\nDNS Results:\")\n",
    "print(f\"Simulation completed: {results.completed}\")\n",
    "print(f\"Final time: {results.final_time}\")\n",
    "print(f\"Number of time steps: {results.time_steps}\")"
   ]
  },
  {
   "cell_type": "markdown",
   "metadata": {},
   "source": [
    "## Visualize DNS Results\n",
    "\n",
    "Plot velocity field, vorticity, and turbulent statistics."
   ]
  },
  {
   "cell_type": "code",
   "execution_count": null,
   "metadata": {},
   "source": [
    "# Plot instantaneous fields\n",
    "plt.figure(figsize=(15, 5))\n",
    "\n",
    "# Plot velocity magnitude\n",
    "plt.subplot(131)\n",
    "results.plot_velocity_magnitude()\n",
    "plt.title('Velocity Magnitude')\n",
    "plt.colorbar(label='Velocity (m/s)')\n",
    "\n",
    "# Plot vorticity magnitude\n",
    "plt.subplot(132)\n",
    "results.plot_vorticity_magnitude()\n",
    "plt.title('Vorticity Magnitude')\n",
    "plt.colorbar(label='Vorticity (1/s)')\n",
    "\n",
    "# Plot pressure field\n",
    "plt.subplot(133)\n",
    "results.plot_pressure()\n",
    "plt.title('Pressure Field')\n",
    "plt.colorbar(label='Pressure (Pa)')\n",
    "\n",
    "plt.tight_layout()\n",
    "plt.show()"
   ]
  },
  {
   "cell_type": "code",
   "execution_count": null,
   "metadata": {},
   "source": [
    "# Plot turbulent statistics\n",
    "plt.figure(figsize=(15, 5))\n",
    "\n",
    "# Plot mean velocity profile\n",
    "plt.subplot(131)\n",
    "results.plot_mean_velocity_profile()\n",
    "plt.title('Mean Velocity Profile')\n",
    "plt.xlabel('y+')\n",
    "plt.ylabel('u+')\n",
    "plt.grid(True)\n",
    "\n",
    "# Plot Reynolds stresses\n",
    "plt.subplot(132)\n",
    "results.plot_reynolds_stresses()\n",
    "plt.title('Reynolds Stresses')\n",
    "plt.xlabel('y+')\n",
    "plt.ylabel('Stress')\n",
    "plt.grid(True)\n",
    "\n",
    "# Plot turbulent kinetic energy\n",
    "plt.subplot(133)\n",
    "results.plot_turbulent_kinetic_energy()\n",
    "plt.title('Turbulent Kinetic Energy')\n",
    "plt.xlabel('y+')\n",
    "plt.ylabel('k+')\n",
    "plt.grid(True)\n",
    "\n",
    "plt.tight_layout()\n",
    "plt.show()"
   ]
  },
  {
   "cell_type": "markdown",
   "metadata": {},
   "source": [
    "## Large Eddy Simulation (LES)\n",
    "\n",
    "Now let's perform a LES of the same flow."
   ]
  },
  {
   "cell_type": "code",
   "execution_count": null,
   "metadata": {},
   "source": [
    "# Configure LES\n",
    "turbulence_config = TurbulenceConfig()\n",
    "turbulence_config.method = 'les'\n",
    "turbulence_config.les = {\n",
    "    'model': 'smagorinsky',\n",
    "    'smagorinsky_constant': 0.1,\n",
    "    'wall_model': 'wall_modeled'\n",
    "}\n",
    "turbulence_config.initial_conditions = {\n",
    "    'velocity': [1.0, 0.0, 0.0],\n",
    "    'perturbation': 0.1\n",
    "}\n",
    "\n",
    "# Create and run solver\n",
    "solver = FlowSolver(config, mesh, turbulence_config=turbulence_config)\n",
    "results = solver.solve()\n",
    "\n",
    "print(\"\\nLES Results:\")\n",
    "print(f\"Simulation completed: {results.completed}\")\n",
    "print(f\"Final time: {results.final_time}\")\n",
    "print(f\"Number of time steps: {results.time_steps}\")"
   ]
  },
  {
   "cell_type": "markdown",
   "metadata": {},
   "source": [
    "## Visualize LES Results\n",
    "\n",
    "Plot filtered velocity field, subgrid stresses, and turbulent statistics."
   ]
  },
  {
   "cell_type": "code",
   "execution_count": null,
   "metadata": {},
   "source": [
    "# Plot filtered fields\n",
    "plt.figure(figsize=(15, 5))\n",
    "\n",
    "# Plot filtered velocity magnitude\n",
    "plt.subplot(131)\n",
    "results.plot_filtered_velocity_magnitude()\n",
    "plt.title('Filtered Velocity Magnitude')\n",
    "plt.colorbar(label='Velocity (m/s)')\n",
    "\n",
    "# Plot subgrid stresses\n",
    "plt.subplot(132)\n",
    "results.plot_subgrid_stresses()\n",
    "plt.title('Subgrid Stresses')\n",
    "plt.colorbar(label='Stress (Pa)')\n",
    "\n",
    "# Plot eddy viscosity\n",
    "plt.subplot(133)\n",
    "results.plot_eddy_viscosity()\n",
    "plt.title('Eddy Viscosity')\n",
    "plt.colorbar(label='Viscosity (m²/s)')\n",
    "\n",
    "plt.tight_layout()\n",
    "plt.show()"
   ]
  },
  {
   "cell_type": "code",
   "execution_count": null,
   "metadata": {},
   "source": [
    "# Plot turbulent statistics\n",
    "plt.figure(figsize=(15, 5))\n",
    "\n",
    "# Plot mean velocity profile\n",
    "plt.subplot(131)\n",
    "results.plot_mean_velocity_profile()\n",
    "plt.title('Mean Velocity Profile')\n",
    "plt.xlabel('y+')\n",
    "plt.ylabel('u+')\n",
    "plt.grid(True)\n",
    "\n",
    "# Plot resolved Reynolds stresses\n",
    "plt.subplot(132)\n",
    "results.plot_resolved_reynolds_stresses()\n",
    "plt.title('Resolved Reynolds Stresses')\n",
    "plt.xlabel('y+')\n",
    "plt.ylabel('Stress')\n",
    "plt.grid(True)\n",
    "\n",
    "# Plot resolved turbulent kinetic energy\n",
    "plt.subplot(133)\n",
    "results.plot_resolved_turbulent_kinetic_energy()\n",
    "plt.title('Resolved Turbulent Kinetic Energy')\n",
    "plt.xlabel('y+')\n",
    "plt.ylabel('k+')\n",
    "plt.grid(True)\n",
    "\n",
    "plt.tight_layout()\n",
    "plt.show()"
   ]
  },
  {
   "cell_type": "markdown",
   "metadata": {},
   "source": [
    "## Compare DNS and LES Results\n",
    "\n",
    "Compare mean velocity profiles, Reynolds stresses, and turbulent kinetic energy."
   ]
  },
  {
   "cell_type": "code",
   "execution_count": null,
   "metadata": {},
   "source": [
    "# Plot comparison\n",
    "plt.figure(figsize=(15, 5))\n",
    "\n",
    "# Plot mean velocity profiles\n",
    "plt.subplot(131)\n",
    "dns_results.plot_mean_velocity_profile(label='DNS')\n",
    "les_results.plot_mean_velocity_profile(label='LES')\n",
    "plt.title('Mean Velocity Profile')\n",
    "plt.xlabel('y+')\n",
    "plt.ylabel('u+')\n",
    "plt.legend()\n",
    "plt.grid(True)\n",
    "\n",
    "# Plot Reynolds stresses\n",
    "plt.subplot(132)\n",
    "dns_results.plot_reynolds_stresses(label='DNS')\n",
    "les_results.plot_resolved_reynolds_stresses(label='LES')\n",
    "plt.title('Reynolds Stresses')\n",
    "plt.xlabel('y+')\n",
    "plt.ylabel('Stress')\n",
    "plt.legend()\n",
    "plt.grid(True)\n",
    "\n",
    "# Plot turbulent kinetic energy\n",
    "plt.subplot(133)\n",
    "dns_results.plot_turbulent_kinetic_energy(label='DNS')\n",
    "les_results.plot_resolved_turbulent_kinetic_energy(label='LES')\n",
    "plt.title('Turbulent Kinetic Energy')\n",
    "plt.xlabel('y+')\n",
    "plt.ylabel('k+')\n",
    "plt.legend()\n",
    "plt.grid(True)\n",
    "\n",
    "plt.tight_layout()\n",
    "plt.show()"
   ]
  },
  {
   "cell_type": "markdown",
   "metadata": {},
   "source": [
    "## Exercises\n",
    "\n",
    "1. Try different Reynolds numbers\n",
    "2. Experiment with different LES models\n",
    "3. Study the effect of grid resolution\n",
    "4. Compare different wall models\n",
    "\n",
    "## Next Steps\n",
    "\n",
    "- Try the conjugate heat transfer example\n",
    "- Explore multi-phase flows\n",
    "- Learn about chemical reactions"
   ]
  }
 ],
 "metadata": {
  "kernelspec": {
   "display_name": "Python 3.11",
   "language": "python",
   "name": "python3"
  },
  "language_info": {
   "codemirror_mode": {
    "name": "ipython",
    "version": 3
   },
   "file_extension": ".py",
   "mimetype": "text/x-python",
   "name": "python",
   "nbconvert_exporter": "python",
   "pygments_lexer": "ipython3",
   "version": "3.11.0"
  }
 },
 "nbformat": 4,
 "nbformat_minor": 4
} 
