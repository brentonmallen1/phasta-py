{
 "cells": [
  {
   "cell_type": "markdown",
   "metadata": {},
   "source": [
    "# Heat Transfer Example\n",
    "\n",
    "This notebook demonstrates various heat transfer phenomena in PHASTA, including conduction, convection, and radiation."
   ]
  },
  {
   "cell_type": "code",
   "execution_count": null,
   "metadata": {},
   "source": [
    "import numpy as np\n",
    "import matplotlib.pyplot as plt\n",
    "from phasta import FlowSolver, FlowConfig, Mesh, HeatTransferConfig\n",
    "\n",
    "# Set up plotting style\n",
    "plt.style.use('seaborn-v0_8-whitegrid')"
   ]
  },
  {
   "cell_type": "markdown",
   "metadata": {},
   "source": [
    "## Problem Setup\n",
    "\n",
    "We'll simulate natural convection in a square cavity with the following parameters:\n",
    "- Cavity size: 1m × 1m\n",
    "- Hot wall temperature: 323K\n",
    "- Cold wall temperature: 283K\n",
    "- Rayleigh number: 1e6"
   ]
  },
  {
   "cell_type": "code",
   "execution_count": null,
   "metadata": {},
   "source": [
    "# Create base configuration\n",
    "config = FlowConfig()\n",
    "config.domain = {\n",
    "    'cavity_size': 1.0,\n",
    "    'mesh_size': 0.02\n",
    "}\n",
    "\n",
    "config.flow = {\n",
    "    'fluid_density': 1.0,\n",
    "    'fluid_viscosity': 1e-6,\n",
    "    'gravity': [0.0, -9.81, 0.0]\n",
    "}\n",
    "\n",
    "config.boundary_conditions = {\n",
    "    'left_wall': 'no-slip',\n",
    "    'right_wall': 'no-slip',\n",
    "    'top_wall': 'no-slip',\n",
    "    'bottom_wall': 'no-slip'\n",
    "}"
   ]
  },
  {
   "cell_type": "markdown",
   "metadata": {},
   "source": [
    "## Natural Convection\n",
    "\n",
    "Let's simulate natural convection in a differentially heated cavity."
   ]
  },
  {
   "cell_type": "code",
   "execution_count": null,
   "metadata": {},
   "source": [
    "# Create mesh\n",
    "mesh = Mesh.generate_square_cavity_2d(\n",
    "    size=config.domain['cavity_size'],\n",
    "    nx=50,\n",
    "    ny=50\n",
    ")\n",
    "\n",
    "# Plot mesh\n",
    "plt.figure(figsize=(8, 8))\n",
    "mesh.plot()\n",
    "plt.title('Square Cavity Mesh')\n",
    "plt.show()"
   ]
  },
  {
   "cell_type": "code",
   "execution_count": null,
   "metadata": {},
   "source": [
    "# Configure heat transfer\n",
    "heat_config = HeatTransferConfig()\n",
    "heat_config.mode = 'natural_convection'\n",
    "heat_config.fluid_properties = {\n",
    "    'thermal_conductivity': 0.0242,\n",
    "    'specific_heat': 1005.0,\n",
    "    'thermal_expansion': 3.4e-3\n",
    "}\n",
    "heat_config.boundary_conditions = {\n",
    "    'left_wall': {'type': 'temperature', 'value': 323.0},\n",
    "    'right_wall': {'type': 'temperature', 'value': 283.0},\n",
    "    'top_wall': {'type': 'adiabatic'},\n",
    "    'bottom_wall': {'type': 'adiabatic'}\n",
    "}\n",
    "\n",
    "# Create and run solver\n",
    "solver = FlowSolver(config, mesh, heat_transfer_config=heat_config)\n",
    "results = solver.solve(max_iterations=2000, convergence_tolerance=1e-6)\n",
    "\n",
    "print(\"\\nNatural Convection Results:\")\n",
    "print(f\"Converged: {results.converged}\")\n",
    "print(f\"Final residual: {results.final_residual}\")\n",
    "print(f\"Iterations: {results.iterations}\")"
   ]
  },
  {
   "cell_type": "markdown",
   "metadata": {},
   "source": [
    "## Visualize Results\n",
    "\n",
    "Plot temperature field, velocity field, and heat flux."
   ]
  },
  {
   "cell_type": "code",
   "execution_count": null,
   "metadata": {},
   "source": [
    "plt.figure(figsize=(15, 5))\n",
    "\n",
    "# Plot temperature field\n",
    "plt.subplot(131)\n",
    "results.plot_temperature()\n",
    "plt.title('Temperature Field')\n",
    "plt.colorbar(label='Temperature (K)')\n",
    "\n",
    "# Plot velocity field\n",
    "plt.subplot(132)\n",
    "results.plot_velocity_magnitude()\n",
    "plt.title('Velocity Magnitude')\n",
    "plt.colorbar(label='Velocity (m/s)')\n",
    "\n",
    "# Plot heat flux\n",
    "plt.subplot(133)\n",
    "results.plot_heat_flux()\n",
    "plt.title('Heat Flux')\n",
    "plt.colorbar(label='Heat Flux (W/m²)')\n",
    "\n",
    "plt.tight_layout()\n",
    "plt.show()"
   ]
  },
  {
   "cell_type": "markdown",
   "metadata": {},
   "source": [
    "## Forced Convection\n",
    "\n",
    "Now let's simulate forced convection over a heated cylinder."
   ]
  },
  {
   "cell_type": "code",
   "execution_count": null,
   "metadata": {},
   "source": [
    "# Create mesh for cylinder\n",
    "mesh = Mesh.generate_cylinder_2d(\n",
    "    radius=0.1,\n",
    "    domain_size=[2.0, 1.0],\n",
    "    nx=100,\n",
    "    ny=50\n",
    ")\n",
    "\n",
    "# Plot mesh\n",
    "plt.figure(figsize=(12, 6))\n",
    "mesh.plot()\n",
    "plt.title('Cylinder Mesh')\n",
    "plt.show()"
   ]
  },
  {
   "cell_type": "code",
   "execution_count": null,
   "metadata": {},
   "source": [
    "# Configure forced convection\n",
    "heat_config = HeatTransferConfig()\n",
    "heat_config.mode = 'forced_convection'\n",
    "heat_config.fluid_properties = {\n",
    "    'thermal_conductivity': 0.0242,\n",
    "    'specific_heat': 1005.0\n",
    "}\n",
    "heat_config.boundary_conditions = {\n",
    "    'cylinder': {'type': 'temperature', 'value': 323.0},\n",
    "    'inlet': {'type': 'temperature', 'value': 283.0},\n",
    "    'outlet': {'type': 'outflow'},\n",
    "    'walls': {'type': 'adiabatic'}\n",
    "}\n",
    "\n",
    "# Update flow configuration\n",
    "config.flow['inlet_velocity'] = 1.0\n",
    "config.flow['reynolds_number'] = 100\n",
    "\n",
    "# Create and run solver\n",
    "solver = FlowSolver(config, mesh, heat_transfer_config=heat_config)\n",
    "results = solver.solve(max_iterations=2000, convergence_tolerance=1e-6)\n",
    "\n",
    "print(\"\\nForced Convection Results:\")\n",
    "print(f\"Converged: {results.converged}\")\n",
    "print(f\"Final residual: {results.final_residual}\")\n",
    "print(f\"Iterations: {results.iterations}\")"
   ]
  },
  {
   "cell_type": "markdown",
   "metadata": {},
   "source": [
    "## Visualize Forced Convection Results\n",
    "\n",
    "Plot temperature field, velocity field, and Nusselt number distribution."
   ]
  },
  {
   "cell_type": "code",
   "execution_count": null,
   "metadata": {},
   "source": [
    "plt.figure(figsize=(15, 5))\n",
    "\n",
    "# Plot temperature field\n",
    "plt.subplot(131)\n",
    "results.plot_temperature()\n",
    "plt.title('Temperature Field')\n",
    "plt.colorbar(label='Temperature (K)')\n",
    "\n",
    "# Plot velocity field\n",
    "plt.subplot(132)\n",
    "results.plot_velocity_magnitude()\n",
    "plt.title('Velocity Magnitude')\n",
    "plt.colorbar(label='Velocity (m/s)')\n",
    "\n",
    "# Plot Nusselt number\n",
    "plt.subplot(133)\n",
    "results.plot_nusselt_number()\n",
    "plt.title('Nusselt Number')\n",
    "plt.colorbar(label='Nu')\n",
    "\n",
    "plt.tight_layout()\n",
    "plt.show()"
   ]
  },
  {
   "cell_type": "markdown",
   "metadata": {},
   "source": [
    "## Radiation Heat Transfer\n",
    "\n",
    "Let's simulate radiation heat transfer between parallel plates."
   ]
  },
  {
   "cell_type": "code",
   "execution_count": null,
   "metadata": {},
   "source": [
    "# Create mesh for parallel plates\n",
    "mesh = Mesh.generate_parallel_plates_2d(\n",
    "    plate_distance=0.1,\n",
    "    plate_length=1.0,\n",
    "    nx=50,\n",
    "    ny=20\n",
    ")\n",
    "\n",
    "# Plot mesh\n",
    "plt.figure(figsize=(12, 4))\n",
    "mesh.plot()\n",
    "plt.title('Parallel Plates Mesh')\n",
    "plt.show()"
   ]
  },
  {
   "cell_type": "code",
   "execution_count": null,
   "metadata": {},
   "source": [
    "# Configure radiation\n",
    "heat_config = HeatTransferConfig()\n",
    "heat_config.mode = 'radiation'\n",
    "heat_config.radiation = {\n",
    "    'model': 'discrete_ordinates',\n",
    "    'number_of_angles': 8,\n",
    "    'scattering': False\n",
    "}\n",
    "heat_config.boundary_conditions = {\n",
    "    'top_plate': {'type': 'temperature', 'value': 323.0, 'emissivity': 0.8},\n",
    "    'bottom_plate': {'type': 'temperature', 'value': 283.0, 'emissivity': 0.8},\n",
    "    'side_walls': {'type': 'adiabatic'}\n",
    "}\n",
    "\n",
    "# Create and run solver\n",
    "solver = FlowSolver(config, mesh, heat_transfer_config=heat_config)\n",
    "results = solver.solve(max_iterations=2000, convergence_tolerance=1e-6)\n",
    "\n",
    "print(\"\\nRadiation Results:\")\n",
    "print(f\"Converged: {results.converged}\")\n",
    "print(f\"Final residual: {results.final_residual}\")\n",
    "print(f\"Iterations: {results.iterations}\")"
   ]
  },
  {
   "cell_type": "markdown",
   "metadata": {},
   "source": [
    "## Visualize Radiation Results\n",
    "\n",
    "Plot temperature field, radiative heat flux, and view factors."
   ]
  },
  {
   "cell_type": "code",
   "execution_count": null,
   "metadata": {},
   "source": [
    "plt.figure(figsize=(15, 5))\n",
    "\n",
    "# Plot temperature field\n",
    "plt.subplot(131)\n",
    "results.plot_temperature()\n",
    "plt.title('Temperature Field')\n",
    "plt.colorbar(label='Temperature (K)')\n",
    "\n",
    "# Plot radiative heat flux\n",
    "plt.subplot(132)\n",
    "results.plot_radiative_heat_flux()\n",
    "plt.title('Radiative Heat Flux')\n",
    "plt.colorbar(label='Heat Flux (W/m²)')\n",
    "\n",
    "# Plot view factors\n",
    "plt.subplot(133)\n",
    "results.plot_view_factors()\n",
    "plt.title('View Factors')\n",
    "plt.colorbar(label='View Factor')\n",
    "\n",
    "plt.tight_layout()\n",
    "plt.show()"
   ]
  },
  {
   "cell_type": "markdown",
   "metadata": {},
   "source": [
    "## Exercises\n",
    "\n",
    "1. Try different Rayleigh numbers in natural convection\n",
    "2. Experiment with different Reynolds numbers in forced convection\n",
    "3. Compare different radiation models\n",
    "4. Study the effect of emissivity on radiation heat transfer\n",
    "\n",
    "## Next Steps\n",
    "\n",
    "- Try the multi-phase flow example\n",
    "- Explore chemical reactions\n",
    "- Learn about conjugate heat transfer"
   ]
  }
 ],
 "metadata": {
  "kernelspec": {
   "display_name": "Python 3.11",
   "language": "python",
   "name": "python3"
  },
  "language_info": {
   "codemirror_mode": {
    "name": "ipython",
    "version": 3
   },
   "file_extension": ".py",
   "mimetype": "text/x-python",
   "name": "python",
   "nbconvert_exporter": "python",
   "pygments_lexer": "ipython3",
   "version": "3.11.0"
  }
 },
 "nbformat": 4,
 "nbformat_minor": 4
} 
